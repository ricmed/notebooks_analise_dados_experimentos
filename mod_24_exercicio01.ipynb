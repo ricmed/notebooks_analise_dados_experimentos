{
 "cells": [
  {
   "cell_type": "markdown",
   "source": [],
   "metadata": {
    "collapsed": false
   },
   "id": "3e3a0e6da6193018"
  },
  {
   "cell_type": "markdown",
   "source": [
    "1. Cinco Diferenças entre Random Forest e AdaBoost:\n",
    "- Método de Ensemble:\n",
    "    - Random Forest: Utiliza o método de bagging, criando múltiplas árvores de decisão com amostras aleatórias do conjunto de dados e tomando a média para melhorar a precisão e controlar o overfitting.\n",
    "    - AdaBoost: Emprega o método de boosting, onde sequencialmente adiciona modelos (geralmente árvores de decisão de um nó) que corrigem os erros dos modelos anteriores, atribuindo pesos maiores às instâncias mal classificadas.\n",
    "- Ponderação das Árvores:\n",
    "    - Random Forest: Todas as árvores têm igual peso na decisão final.\n",
    "    - AdaBoost: As árvores têm pesos diferentes baseados na sua precisão, com árvores mais precisas tendo maior influência.\n",
    "- Tratamento de Erros:\n",
    "    - Random Forest: Lida com erros por meio da diversidade das árvores.\n",
    "    - AdaBoost: Foca em corrigir os erros, dando mais atenção às instâncias que foram classificadas incorretamente.\n",
    "- Complexidade do Modelo:\n",
    "    - Random Forest: Geralmente usa árvores mais profundas, resultando em um modelo mais complexo.\n",
    "    - AdaBoost: Frequentemente usa árvores mais simples (stumps), tornando o modelo menos complexo.\n",
    "- Sensibilidade a Dados Ruidosos e Outliers:\n",
    "    - Random Forest: É relativamente robusto a outliers e dados ruidosos.\n",
    "    - AdaBoost: Pode ser sensível a outliers, pois tenta ajustar cada ponto de dados, incluindo os outliers.    "
   ],
   "metadata": {
    "collapsed": false
   },
   "id": "be4f561abe5910a7"
  },
  {
   "cell_type": "code",
   "execution_count": 12,
   "outputs": [
    {
     "name": "stdout",
     "output_type": "stream",
     "text": [
      "Acurácia: 1.0\n",
      "Matriz de Confusão:\n",
      "[[19  0  0]\n",
      " [ 0 13  0]\n",
      " [ 0  0 13]]\n"
     ]
    }
   ],
   "source": [
    "# 2. Script AdaBoost com Scikit-Learn\n",
    "\n",
    "from sklearn.ensemble import AdaBoostClassifier\n",
    "from sklearn.datasets import load_iris\n",
    "from sklearn.model_selection import train_test_split\n",
    "from sklearn.metrics import accuracy_score, confusion_matrix\n",
    "\n",
    "# Load the Iris dataset\n",
    "iris = load_iris()\n",
    "X, y = iris.data, iris.target\n",
    "\n",
    "# Split the dataset into training and testing sets\n",
    "X_train, X_test, y_train, y_test = train_test_split(X, y, test_size=0.3, random_state=42)\n",
    "\n",
    "# Create AdaBoost classifier instance\n",
    "ada_clf = AdaBoostClassifier(n_estimators=200)\n",
    "\n",
    "# Train AdaBoost Classifier\n",
    "ada_clf.fit(X_train, y_train)\n",
    "\n",
    "# Make predictions\n",
    "y_pred = ada_clf.predict(X_test)\n",
    "\n",
    "# Evaluate the model\n",
    "accuracy = accuracy_score(y_test, y_pred, normalize=True, sample_weight=None)\n",
    "print(f'Acurácia: {accuracy}')\n",
    "cm = confusion_matrix(y_test, y_pred)\n",
    "print(f'Matriz de Confusão:\\n{cm}')\n"
   ],
   "metadata": {
    "collapsed": false,
    "ExecuteTime": {
     "end_time": "2023-12-18T19:31:54.592426200Z",
     "start_time": "2023-12-18T19:31:54.149700900Z"
    }
   },
   "id": "c57f6dd20aac2db8"
  },
  {
   "cell_type": "markdown",
   "source": [
    "3. Cinco Hiperparâmetros Importantes no AdaBoost:\n",
    "- n_estimators: Número de modelos a serem construídos sequencialmente.\n",
    "- learning_rate: Taxa de aprendizado que pondera a contribuição de cada modelo. Valores menores requerem mais modelos (n_estimators).\n",
    "- base_estimator: O modelo base a ser utilizado (por padrão, é uma árvore de decisão).\n",
    "- algorithm: Pode ser 'SAMME' ou 'SAMME.R', influenciando a forma como os pesos são atualizados.\n",
    "- random_state: Controla a aleatoriedade do processo de boosting."
   ],
   "metadata": {
    "collapsed": false
   },
   "id": "bc45ae66224584a4"
  },
  {
   "cell_type": "code",
   "execution_count": 13,
   "outputs": [
    {
     "name": "stdout",
     "output_type": "stream",
     "text": [
      "Melhores parâmetros: {'base_estimator__max_depth': 3, 'learning_rate': 0.01, 'n_estimators': 50}\n",
      "Melhor pontuação: 0.9666666666666668\n"
     ]
    }
   ],
   "source": [
    "# 4. Utilizando GridSearch para Otimizar Hiperparâmetros no AdaBoost com o Conjunto de Dados Iris\n",
    "from sklearn.ensemble import AdaBoostClassifier\n",
    "from sklearn.model_selection import GridSearchCV\n",
    "from sklearn.datasets import load_iris\n",
    "from sklearn.tree import DecisionTreeClassifier\n",
    "\n",
    "# Carregar dados\n",
    "iris = load_iris()\n",
    "X, y = iris.data, iris.target\n",
    "\n",
    "# Definir o modelo base\n",
    "base_estimator = DecisionTreeClassifier()\n",
    "\n",
    "# Configurar o AdaBoostClassifier\n",
    "ada = AdaBoostClassifier(base_estimator=base_estimator)\n",
    "\n",
    "# Definir o espaço de busca dos hiperparâmetros\n",
    "param_grid = {\n",
    "    'n_estimators': [50, 100, 200],\n",
    "    'learning_rate': [0.01, 0.1, 1],\n",
    "    'base_estimator__max_depth': [1, 2, 3]\n",
    "}\n",
    "\n",
    "# Configurar o GridSearchCV\n",
    "grid_search = GridSearchCV(ada, param_grid, cv=5, scoring='accuracy')\n",
    "\n",
    "# Executar o GridSearch\n",
    "grid_search.fit(X, y)\n",
    "\n",
    "# Melhores parâmetros e pontuação\n",
    "print(\"Melhores parâmetros:\", grid_search.best_params_)\n",
    "print(\"Melhor pontuação:\", grid_search.best_score_)\n",
    "\n"
   ],
   "metadata": {
    "collapsed": false,
    "ExecuteTime": {
     "end_time": "2023-12-18T19:33:21.403288200Z",
     "start_time": "2023-12-18T19:32:56.903886900Z"
    }
   },
   "id": "7d8126b36a6f2255"
  },
  {
   "cell_type": "code",
   "execution_count": 1,
   "outputs": [],
   "source": [],
   "metadata": {
    "collapsed": false,
    "ExecuteTime": {
     "end_time": "2023-12-18T19:22:16.216047800Z",
     "start_time": "2023-12-18T19:22:16.211271900Z"
    }
   },
   "id": "501452a59fd3ac34"
  }
 ],
 "metadata": {
  "kernelspec": {
   "display_name": "Python 3",
   "language": "python",
   "name": "python3"
  },
  "language_info": {
   "codemirror_mode": {
    "name": "ipython",
    "version": 2
   },
   "file_extension": ".py",
   "mimetype": "text/x-python",
   "name": "python",
   "nbconvert_exporter": "python",
   "pygments_lexer": "ipython2",
   "version": "2.7.6"
  }
 },
 "nbformat": 4,
 "nbformat_minor": 5
}
