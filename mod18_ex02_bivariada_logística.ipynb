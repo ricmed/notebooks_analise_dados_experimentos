{
 "cells": [
  {
   "cell_type": "markdown",
   "metadata": {},
   "source": [
    "# Regressão Logística I\n",
    "## Tarefa II\n",
    "\n",
    "Vamos trabalhar com a mesma base do exercício anterior, mas vamos aprofundar um pouco mais a nossa regressão."
   ]
  },
  {
   "cell_type": "code",
   "execution_count": 1,
   "metadata": {
    "ExecuteTime": {
     "end_time": "2023-11-20T19:42:40.830560Z",
     "start_time": "2023-11-20T19:42:40.680867400Z"
    }
   },
   "outputs": [],
   "source": [
    "import pandas as pd\n",
    "import seaborn as sns\n",
    "import matplotlib.pyplot as plt\n",
    "import numpy as np\n",
    "\n",
    "import statsmodels.formula.api as smf"
   ]
  },
  {
   "cell_type": "code",
   "execution_count": 2,
   "metadata": {
    "tags": [],
    "ExecuteTime": {
     "end_time": "2023-11-20T19:42:42.325388600Z",
     "start_time": "2023-11-20T19:42:40.834571200Z"
    }
   },
   "outputs": [
    {
     "data": {
      "text/plain": "    age  sex   cp  trestbps   chol  fbs  restecg  thalach  exang  oldpeak  \\\n0  63.0  1.0  1.0     145.0  233.0  1.0      2.0    150.0    0.0      2.3   \n1  67.0  1.0  4.0     160.0  286.0  0.0      2.0    108.0    1.0      1.5   \n2  67.0  1.0  4.0     120.0  229.0  0.0      2.0    129.0    1.0      2.6   \n3  37.0  1.0  3.0     130.0  250.0  0.0      0.0    187.0    0.0      3.5   \n4  41.0  0.0  2.0     130.0  204.0  0.0      2.0    172.0    0.0      1.4   \n\n   slope   ca thal  num  flag_doente  \n0    3.0  0.0  6.0    0            0  \n1    2.0  3.0  3.0    2            1  \n2    2.0  2.0  7.0    1            1  \n3    3.0  0.0  3.0    0            0  \n4    1.0  0.0  3.0    0            0  ",
      "text/html": "<div>\n<style scoped>\n    .dataframe tbody tr th:only-of-type {\n        vertical-align: middle;\n    }\n\n    .dataframe tbody tr th {\n        vertical-align: top;\n    }\n\n    .dataframe thead th {\n        text-align: right;\n    }\n</style>\n<table border=\"1\" class=\"dataframe\">\n  <thead>\n    <tr style=\"text-align: right;\">\n      <th></th>\n      <th>age</th>\n      <th>sex</th>\n      <th>cp</th>\n      <th>trestbps</th>\n      <th>chol</th>\n      <th>fbs</th>\n      <th>restecg</th>\n      <th>thalach</th>\n      <th>exang</th>\n      <th>oldpeak</th>\n      <th>slope</th>\n      <th>ca</th>\n      <th>thal</th>\n      <th>num</th>\n      <th>flag_doente</th>\n    </tr>\n  </thead>\n  <tbody>\n    <tr>\n      <th>0</th>\n      <td>63.0</td>\n      <td>1.0</td>\n      <td>1.0</td>\n      <td>145.0</td>\n      <td>233.0</td>\n      <td>1.0</td>\n      <td>2.0</td>\n      <td>150.0</td>\n      <td>0.0</td>\n      <td>2.3</td>\n      <td>3.0</td>\n      <td>0.0</td>\n      <td>6.0</td>\n      <td>0</td>\n      <td>0</td>\n    </tr>\n    <tr>\n      <th>1</th>\n      <td>67.0</td>\n      <td>1.0</td>\n      <td>4.0</td>\n      <td>160.0</td>\n      <td>286.0</td>\n      <td>0.0</td>\n      <td>2.0</td>\n      <td>108.0</td>\n      <td>1.0</td>\n      <td>1.5</td>\n      <td>2.0</td>\n      <td>3.0</td>\n      <td>3.0</td>\n      <td>2</td>\n      <td>1</td>\n    </tr>\n    <tr>\n      <th>2</th>\n      <td>67.0</td>\n      <td>1.0</td>\n      <td>4.0</td>\n      <td>120.0</td>\n      <td>229.0</td>\n      <td>0.0</td>\n      <td>2.0</td>\n      <td>129.0</td>\n      <td>1.0</td>\n      <td>2.6</td>\n      <td>2.0</td>\n      <td>2.0</td>\n      <td>7.0</td>\n      <td>1</td>\n      <td>1</td>\n    </tr>\n    <tr>\n      <th>3</th>\n      <td>37.0</td>\n      <td>1.0</td>\n      <td>3.0</td>\n      <td>130.0</td>\n      <td>250.0</td>\n      <td>0.0</td>\n      <td>0.0</td>\n      <td>187.0</td>\n      <td>0.0</td>\n      <td>3.5</td>\n      <td>3.0</td>\n      <td>0.0</td>\n      <td>3.0</td>\n      <td>0</td>\n      <td>0</td>\n    </tr>\n    <tr>\n      <th>4</th>\n      <td>41.0</td>\n      <td>0.0</td>\n      <td>2.0</td>\n      <td>130.0</td>\n      <td>204.0</td>\n      <td>0.0</td>\n      <td>2.0</td>\n      <td>172.0</td>\n      <td>0.0</td>\n      <td>1.4</td>\n      <td>1.0</td>\n      <td>0.0</td>\n      <td>3.0</td>\n      <td>0</td>\n      <td>0</td>\n    </tr>\n  </tbody>\n</table>\n</div>"
     },
     "execution_count": 2,
     "metadata": {},
     "output_type": "execute_result"
    }
   ],
   "source": [
    "url = 'http://archive.ics.uci.edu/ml/machine-learning-databases/heart-disease/processed.cleveland.data'\n",
    "\n",
    "df = pd.read_csv(url, \n",
    "                 names=['age', 'sex', 'cp', 'trestbps', 'chol', 'fbs', 'restecg',\n",
    "                        'thalach', 'exang', 'oldpeak', 'slope', 'ca', 'thal', 'num'])\n",
    "df['flag_doente'] = (df['num']!=0).astype('int64')\n",
    "df.head()"
   ]
  },
  {
   "cell_type": "markdown",
   "metadata": {},
   "source": [
    "A descrição das variáveis está recortada abaixo:\n",
    "- age: idade do paciente em anos\n",
    "- sex: sexo (1 = male; 0 = female)  \n",
    "- cp: tipo de dor no peito\n",
    "  - 1: angina típica\n",
    "  - 2: angina atípica\n",
    "  - 3: dor não-angina\n",
    "  - 4: assintomático\n",
    "- trestbps: pressão sanguínea em repouso (em mm Hg na admissão ao hospital\n",
    "- chol: colesterol sérico em mg/dl\n",
    "- fbs: (açúcar no sangue em jejum > 120 mg/dl) (1 = True; 0 = False)\n",
    "- restecg: resultados eletrocardiográficos em repouso\n",
    "  - 0: normal\n",
    "  - 1: tendo anormalidade da onda ST-T (Inversões de onda T e / ou ST com elevação ou depressão de > 0.05 mV)\n",
    "  - 2: mostrando hipertrofia ventricular esquerda provável ou definitiva pelos critérios de Estes\n",
    "- thalach: frequência cardíaca máxima alcançada\n",
    "- exang: angina induzida por exercício(1 = sim; 0 = não)\n",
    "- oldpeak = Depressão de ST induzida por exercício em relação ao repouso\n",
    "- slope: Depressão de ST induzida por exercício em relação ao repouso\n",
    "  - 1: inclinação ascendente\n",
    "  - 2: estável\n",
    "  - 3: inclinação descendente\n",
    "- ca: número de vasos principais (0-3) coloridos por fluorosopia\n",
    "- thal: 3 = normal; 6 = defeito corrigido; 7 = defeito reversível\n",
    "- num: diagnóstico de doença cardíaga (status de doença angiográfica)"
   ]
  },
  {
   "cell_type": "code",
   "execution_count": 3,
   "metadata": {
    "ExecuteTime": {
     "start_time": "2023-11-20T19:42:42.570117400Z"
    }
   },
   "outputs": [
    {
     "name": "stdout",
     "output_type": "stream",
     "text": [
      "<class 'pandas.core.frame.DataFrame'>\n",
      "RangeIndex: 303 entries, 0 to 302\n",
      "Data columns (total 15 columns):\n",
      " #   Column       Non-Null Count  Dtype  \n",
      "---  ------       --------------  -----  \n",
      " 0   age          303 non-null    float64\n",
      " 1   sex          303 non-null    float64\n",
      " 2   cp           303 non-null    float64\n",
      " 3   trestbps     303 non-null    float64\n",
      " 4   chol         303 non-null    float64\n",
      " 5   fbs          303 non-null    float64\n",
      " 6   restecg      303 non-null    float64\n",
      " 7   thalach      303 non-null    float64\n",
      " 8   exang        303 non-null    float64\n",
      " 9   oldpeak      303 non-null    float64\n",
      " 10  slope        303 non-null    float64\n",
      " 11  ca           303 non-null    object \n",
      " 12  thal         303 non-null    object \n",
      " 13  num          303 non-null    int64  \n",
      " 14  flag_doente  303 non-null    int64  \n",
      "dtypes: float64(11), int64(2), object(2)\n",
      "memory usage: 35.6+ KB\n"
     ]
    }
   ],
   "source": [
    "df.info()"
   ]
  },
  {
   "cell_type": "markdown",
   "metadata": {},
   "source": [
    "1. Crie um script que monta a análise bivariada e transforme esse script em uma função, que deve:\n",
    "- Ter como parâmetros de entrada:\n",
    "    - Um *dataframe* contendo os dados a serem avaliados\n",
    "    - Um *string* contendo o nome da variável resposta\n",
    "    - Um *string* contendo o nome da variável explicativa\n",
    "- E deve retornar um *dataframe* com os dados da bivariada. \n",
    "**Monte** a mesma bivariada pelo menos três variáveis qualitativas do *data-frame*. Qual delas parece discriminar mais o risco?"
   ]
  },
  {
   "cell_type": "code",
   "execution_count": 4,
   "metadata": {
    "ExecuteTime": {
     "start_time": "2023-11-20T19:42:45.469410200Z"
    }
   },
   "outputs": [],
   "source": [
    "# A função que calcula as estatísticas bivariadas\n",
    "\n",
    "def calcular_estatisticas_bivariada(df: pd.DataFrame, var: str, target: str) -> pd.DataFrame:\n",
    "    # Cria um dataframe com contagens de doentes e saudáveis por categoria da variável\n",
    "    bivariate_df = df.groupby(var).agg({target:['sum', 'count']})\n",
    "    bivariate_df.columns = ['doentes', 'total']\n",
    "    \n",
    "    # Calcula o número de saudáveis por categoria da variável\n",
    "    bivariate_df['saudaveis'] = bivariate_df['total'] - bivariate_df['doentes']\n",
    "    \n",
    "    # Calcula a quantidade média de doentes\n",
    "    bivariate_df['quantidade_media_doentes'] = df[target].mean()\n",
    "    \n",
    "    # Calcula os odds\n",
    "    bivariate_df['odds'] = bivariate_df['doentes'] / bivariate_df['saudaveis']\n",
    "    \n",
    "    # Calcula odds ratio usando o total como referência\n",
    "    total_odds = df[target].sum() / (len(df) - df[target].sum())\n",
    "    bivariate_df['odds_ratio'] = bivariate_df['odds'] / total_odds\n",
    "    \n",
    "    # Calcula Logito (LOG(odds))\n",
    "    bivariate_df['logito'] = np.log(bivariate_df['odds'])\n",
    "    \n",
    "    # Calcula Weight of Evidence (WOE) = LOG(odds ratio)\n",
    "    bivariate_df['WOE'] = np.log(bivariate_df['odds_ratio'])\n",
    "    \n",
    "    # Como solicitado, retorna um dataframe com as estatísticas calculadas\n",
    "    return bivariate_df"
   ]
  },
  {
   "cell_type": "code",
   "execution_count": 5,
   "outputs": [
    {
     "data": {
      "text/plain": "     doentes  total  saudaveis  quantidade_media_doentes      odds  \\\nsex                                                                  \n0.0       25     97         72                  0.458746  0.347222   \n1.0      114    206         92                  0.458746  1.239130   \n\n     odds_ratio   logito       WOE  \nsex                                 \n0.0    0.409672 -1.05779 -0.892398  \n1.0    1.461996  0.21441  0.379802  ",
      "text/html": "<div>\n<style scoped>\n    .dataframe tbody tr th:only-of-type {\n        vertical-align: middle;\n    }\n\n    .dataframe tbody tr th {\n        vertical-align: top;\n    }\n\n    .dataframe thead th {\n        text-align: right;\n    }\n</style>\n<table border=\"1\" class=\"dataframe\">\n  <thead>\n    <tr style=\"text-align: right;\">\n      <th></th>\n      <th>doentes</th>\n      <th>total</th>\n      <th>saudaveis</th>\n      <th>quantidade_media_doentes</th>\n      <th>odds</th>\n      <th>odds_ratio</th>\n      <th>logito</th>\n      <th>WOE</th>\n    </tr>\n    <tr>\n      <th>sex</th>\n      <th></th>\n      <th></th>\n      <th></th>\n      <th></th>\n      <th></th>\n      <th></th>\n      <th></th>\n      <th></th>\n    </tr>\n  </thead>\n  <tbody>\n    <tr>\n      <th>0.0</th>\n      <td>25</td>\n      <td>97</td>\n      <td>72</td>\n      <td>0.458746</td>\n      <td>0.347222</td>\n      <td>0.409672</td>\n      <td>-1.05779</td>\n      <td>-0.892398</td>\n    </tr>\n    <tr>\n      <th>1.0</th>\n      <td>114</td>\n      <td>206</td>\n      <td>92</td>\n      <td>0.458746</td>\n      <td>1.239130</td>\n      <td>1.461996</td>\n      <td>0.21441</td>\n      <td>0.379802</td>\n    </tr>\n  </tbody>\n</table>\n</div>"
     },
     "execution_count": 5,
     "metadata": {},
     "output_type": "execute_result"
    }
   ],
   "source": [
    "df_sex = calcular_estatisticas_bivariada(df, 'sex', 'flag_doente')\n",
    "df_sex"
   ],
   "metadata": {
    "collapsed": false,
    "ExecuteTime": {
     "start_time": "2023-11-20T19:42:45.581954300Z"
    }
   }
  },
  {
   "cell_type": "code",
   "execution_count": 6,
   "outputs": [
    {
     "data": {
      "text/plain": "     doentes  total  saudaveis  quantidade_media_doentes      odds  \\\ncp                                                                   \n1.0        7     23         16                  0.458746  0.437500   \n2.0        9     50         41                  0.458746  0.219512   \n3.0       18     86         68                  0.458746  0.264706   \n4.0      105    144         39                  0.458746  2.692308   \n\n     odds_ratio    logito       WOE  \ncp                                   \n1.0    0.516187 -0.826679 -0.661286  \n2.0    0.258993 -1.516347 -1.350955  \n3.0    0.312315 -1.329136 -1.163743  \n4.0    3.176536  0.990399  1.155791  ",
      "text/html": "<div>\n<style scoped>\n    .dataframe tbody tr th:only-of-type {\n        vertical-align: middle;\n    }\n\n    .dataframe tbody tr th {\n        vertical-align: top;\n    }\n\n    .dataframe thead th {\n        text-align: right;\n    }\n</style>\n<table border=\"1\" class=\"dataframe\">\n  <thead>\n    <tr style=\"text-align: right;\">\n      <th></th>\n      <th>doentes</th>\n      <th>total</th>\n      <th>saudaveis</th>\n      <th>quantidade_media_doentes</th>\n      <th>odds</th>\n      <th>odds_ratio</th>\n      <th>logito</th>\n      <th>WOE</th>\n    </tr>\n    <tr>\n      <th>cp</th>\n      <th></th>\n      <th></th>\n      <th></th>\n      <th></th>\n      <th></th>\n      <th></th>\n      <th></th>\n      <th></th>\n    </tr>\n  </thead>\n  <tbody>\n    <tr>\n      <th>1.0</th>\n      <td>7</td>\n      <td>23</td>\n      <td>16</td>\n      <td>0.458746</td>\n      <td>0.437500</td>\n      <td>0.516187</td>\n      <td>-0.826679</td>\n      <td>-0.661286</td>\n    </tr>\n    <tr>\n      <th>2.0</th>\n      <td>9</td>\n      <td>50</td>\n      <td>41</td>\n      <td>0.458746</td>\n      <td>0.219512</td>\n      <td>0.258993</td>\n      <td>-1.516347</td>\n      <td>-1.350955</td>\n    </tr>\n    <tr>\n      <th>3.0</th>\n      <td>18</td>\n      <td>86</td>\n      <td>68</td>\n      <td>0.458746</td>\n      <td>0.264706</td>\n      <td>0.312315</td>\n      <td>-1.329136</td>\n      <td>-1.163743</td>\n    </tr>\n    <tr>\n      <th>4.0</th>\n      <td>105</td>\n      <td>144</td>\n      <td>39</td>\n      <td>0.458746</td>\n      <td>2.692308</td>\n      <td>3.176536</td>\n      <td>0.990399</td>\n      <td>1.155791</td>\n    </tr>\n  </tbody>\n</table>\n</div>"
     },
     "execution_count": 6,
     "metadata": {},
     "output_type": "execute_result"
    }
   ],
   "source": [
    "df_cp = calcular_estatisticas_bivariada(df, 'cp', 'flag_doente')\n",
    "df_cp"
   ],
   "metadata": {
    "collapsed": false,
    "ExecuteTime": {
     "start_time": "2023-11-20T19:42:45.752534500Z"
    }
   }
  },
  {
   "cell_type": "code",
   "execution_count": 7,
   "outputs": [
    {
     "data": {
      "text/plain": "         doentes  total  saudaveis  quantidade_media_doentes      odds  \\\nrestecg                                                                  \n0.0           56    151         95                  0.458746  0.589474   \n1.0            3      4          1                  0.458746  3.000000   \n2.0           80    148         68                  0.458746  1.176471   \n\n         odds_ratio    logito       WOE  \nrestecg                                  \n0.0        0.695494 -0.528525 -0.363133  \n1.0        3.539568  1.098612  1.264005  \n2.0        1.388066  0.162519  0.327911  ",
      "text/html": "<div>\n<style scoped>\n    .dataframe tbody tr th:only-of-type {\n        vertical-align: middle;\n    }\n\n    .dataframe tbody tr th {\n        vertical-align: top;\n    }\n\n    .dataframe thead th {\n        text-align: right;\n    }\n</style>\n<table border=\"1\" class=\"dataframe\">\n  <thead>\n    <tr style=\"text-align: right;\">\n      <th></th>\n      <th>doentes</th>\n      <th>total</th>\n      <th>saudaveis</th>\n      <th>quantidade_media_doentes</th>\n      <th>odds</th>\n      <th>odds_ratio</th>\n      <th>logito</th>\n      <th>WOE</th>\n    </tr>\n    <tr>\n      <th>restecg</th>\n      <th></th>\n      <th></th>\n      <th></th>\n      <th></th>\n      <th></th>\n      <th></th>\n      <th></th>\n      <th></th>\n    </tr>\n  </thead>\n  <tbody>\n    <tr>\n      <th>0.0</th>\n      <td>56</td>\n      <td>151</td>\n      <td>95</td>\n      <td>0.458746</td>\n      <td>0.589474</td>\n      <td>0.695494</td>\n      <td>-0.528525</td>\n      <td>-0.363133</td>\n    </tr>\n    <tr>\n      <th>1.0</th>\n      <td>3</td>\n      <td>4</td>\n      <td>1</td>\n      <td>0.458746</td>\n      <td>3.000000</td>\n      <td>3.539568</td>\n      <td>1.098612</td>\n      <td>1.264005</td>\n    </tr>\n    <tr>\n      <th>2.0</th>\n      <td>80</td>\n      <td>148</td>\n      <td>68</td>\n      <td>0.458746</td>\n      <td>1.176471</td>\n      <td>1.388066</td>\n      <td>0.162519</td>\n      <td>0.327911</td>\n    </tr>\n  </tbody>\n</table>\n</div>"
     },
     "execution_count": 7,
     "metadata": {},
     "output_type": "execute_result"
    }
   ],
   "source": [
    "df_restecg = calcular_estatisticas_bivariada(df, 'restecg', 'flag_doente')\n",
    "df_restecg"
   ],
   "metadata": {
    "collapsed": false,
    "ExecuteTime": {
     "start_time": "2023-11-20T19:42:48.963164500Z"
    }
   }
  },
  {
   "cell_type": "markdown",
   "metadata": {},
   "source": [
    "2. Monte uma função semelhante para categorizar variáveis quantitativas contínuas (com muitas categorias) como ```age```.  \n",
    "    Além dos mesmos parâmetros da função anterior, defina mais um parâmetro como número de categorias que você deseja quebrar. Defina um valor '*default*' de 5 grupos para este parâmetro.  "
   ]
  },
  {
   "cell_type": "code",
   "execution_count": 8,
   "metadata": {
    "ExecuteTime": {
     "start_time": "2023-11-20T19:42:48.972164900Z"
    }
   },
   "outputs": [],
   "source": [
    "def calcular_estatisticas_bivariada_continua(df: pd.DataFrame, var: float, target: str, n_categories: int = 5) -> pd.DataFrame:\n",
    "    # Cria um dataframe com contagens de doentes e saudáveis por categoria da variável\n",
    "    bivariate_df = df.groupby(pd.qcut(df[var], q=n_categories, duplicates='drop')).agg({target:['sum', 'count']})\n",
    "    bivariate_df.columns = ['doentes', 'total']\n",
    "    \n",
    "    # Calcula o número de saudáveis por categoria da variável\n",
    "    bivariate_df['saudaveis'] = bivariate_df['total'] - bivariate_df['doentes']\n",
    "    \n",
    "    # Calcula a quantidade média de doentes\n",
    "    bivariate_df['quantidade_media_doentes'] = df[target].mean()\n",
    "    \n",
    "    # Calcula os odds\n",
    "    bivariate_df['odds'] = bivariate_df['doentes'] / bivariate_df['saudaveis']\n",
    "    \n",
    "    # Calcula odds ratio usando o total como referência\n",
    "    total_odds = df[target].sum() / (len(df) - df[target].sum())\n",
    "    bivariate_df['odds_ratio'] = bivariate_df['odds'] / total_odds\n",
    "    \n",
    "    # Calcula Logito (LOG(odds))\n",
    "    bivariate_df['logito'] = np.log(bivariate_df['odds'])\n",
    "    \n",
    "    return bivariate_df"
   ]
  },
  {
   "cell_type": "code",
   "execution_count": 9,
   "outputs": [
    {
     "data": {
      "text/plain": "                doentes  total  saudaveis  quantidade_media_doentes      odds  \\\nage                                                                             \n(28.999, 45.0]       16     63         47                  0.458746  0.340426   \n(45.0, 53.0]         22     64         42                  0.458746  0.523810   \n(53.0, 58.0]         39     71         32                  0.458746  1.218750   \n(58.0, 62.0]         32     45         13                  0.458746  2.461538   \n(62.0, 77.0]         30     60         30                  0.458746  1.000000   \n\n                odds_ratio    logito  \nage                                   \n(28.999, 45.0]    0.401653 -1.077559  \n(45.0, 53.0]      0.618020 -0.646627  \n(53.0, 58.0]      1.437950  0.197826  \n(58.0, 62.0]      2.904261  0.900787  \n(62.0, 77.0]      1.179856  0.000000  ",
      "text/html": "<div>\n<style scoped>\n    .dataframe tbody tr th:only-of-type {\n        vertical-align: middle;\n    }\n\n    .dataframe tbody tr th {\n        vertical-align: top;\n    }\n\n    .dataframe thead th {\n        text-align: right;\n    }\n</style>\n<table border=\"1\" class=\"dataframe\">\n  <thead>\n    <tr style=\"text-align: right;\">\n      <th></th>\n      <th>doentes</th>\n      <th>total</th>\n      <th>saudaveis</th>\n      <th>quantidade_media_doentes</th>\n      <th>odds</th>\n      <th>odds_ratio</th>\n      <th>logito</th>\n    </tr>\n    <tr>\n      <th>age</th>\n      <th></th>\n      <th></th>\n      <th></th>\n      <th></th>\n      <th></th>\n      <th></th>\n      <th></th>\n    </tr>\n  </thead>\n  <tbody>\n    <tr>\n      <th>(28.999, 45.0]</th>\n      <td>16</td>\n      <td>63</td>\n      <td>47</td>\n      <td>0.458746</td>\n      <td>0.340426</td>\n      <td>0.401653</td>\n      <td>-1.077559</td>\n    </tr>\n    <tr>\n      <th>(45.0, 53.0]</th>\n      <td>22</td>\n      <td>64</td>\n      <td>42</td>\n      <td>0.458746</td>\n      <td>0.523810</td>\n      <td>0.618020</td>\n      <td>-0.646627</td>\n    </tr>\n    <tr>\n      <th>(53.0, 58.0]</th>\n      <td>39</td>\n      <td>71</td>\n      <td>32</td>\n      <td>0.458746</td>\n      <td>1.218750</td>\n      <td>1.437950</td>\n      <td>0.197826</td>\n    </tr>\n    <tr>\n      <th>(58.0, 62.0]</th>\n      <td>32</td>\n      <td>45</td>\n      <td>13</td>\n      <td>0.458746</td>\n      <td>2.461538</td>\n      <td>2.904261</td>\n      <td>0.900787</td>\n    </tr>\n    <tr>\n      <th>(62.0, 77.0]</th>\n      <td>30</td>\n      <td>60</td>\n      <td>30</td>\n      <td>0.458746</td>\n      <td>1.000000</td>\n      <td>1.179856</td>\n      <td>0.000000</td>\n    </tr>\n  </tbody>\n</table>\n</div>"
     },
     "execution_count": 9,
     "metadata": {},
     "output_type": "execute_result"
    }
   ],
   "source": [
    "df_age = calcular_estatisticas_bivariada_continua(df, 'age', 'flag_doente')\n",
    "df_age"
   ],
   "metadata": {
    "collapsed": false,
    "ExecuteTime": {
     "start_time": "2023-11-20T19:42:48.992175500Z"
    }
   }
  },
  {
   "cell_type": "code",
   "execution_count": 10,
   "outputs": [
    {
     "data": {
      "text/plain": "                  doentes  total  saudaveis  quantidade_media_doentes  \\\nchol                                                                    \n(125.999, 204.0]       25     62         37                  0.458746   \n(204.0, 230.0]         24     60         36                  0.458746   \n(230.0, 254.0]         26     62         36                  0.458746   \n(254.0, 286.0]         32     59         27                  0.458746   \n(286.0, 564.0]         32     60         28                  0.458746   \n\n                      odds  odds_ratio    logito  \nchol                                              \n(125.999, 204.0]  0.675676    0.797200 -0.392042  \n(204.0, 230.0]    0.666667    0.786571 -0.405465  \n(230.0, 254.0]    0.722222    0.852118 -0.325422  \n(254.0, 286.0]    1.185185    1.398348  0.169899  \n(286.0, 564.0]    1.142857    1.348407  0.133531  ",
      "text/html": "<div>\n<style scoped>\n    .dataframe tbody tr th:only-of-type {\n        vertical-align: middle;\n    }\n\n    .dataframe tbody tr th {\n        vertical-align: top;\n    }\n\n    .dataframe thead th {\n        text-align: right;\n    }\n</style>\n<table border=\"1\" class=\"dataframe\">\n  <thead>\n    <tr style=\"text-align: right;\">\n      <th></th>\n      <th>doentes</th>\n      <th>total</th>\n      <th>saudaveis</th>\n      <th>quantidade_media_doentes</th>\n      <th>odds</th>\n      <th>odds_ratio</th>\n      <th>logito</th>\n    </tr>\n    <tr>\n      <th>chol</th>\n      <th></th>\n      <th></th>\n      <th></th>\n      <th></th>\n      <th></th>\n      <th></th>\n      <th></th>\n    </tr>\n  </thead>\n  <tbody>\n    <tr>\n      <th>(125.999, 204.0]</th>\n      <td>25</td>\n      <td>62</td>\n      <td>37</td>\n      <td>0.458746</td>\n      <td>0.675676</td>\n      <td>0.797200</td>\n      <td>-0.392042</td>\n    </tr>\n    <tr>\n      <th>(204.0, 230.0]</th>\n      <td>24</td>\n      <td>60</td>\n      <td>36</td>\n      <td>0.458746</td>\n      <td>0.666667</td>\n      <td>0.786571</td>\n      <td>-0.405465</td>\n    </tr>\n    <tr>\n      <th>(230.0, 254.0]</th>\n      <td>26</td>\n      <td>62</td>\n      <td>36</td>\n      <td>0.458746</td>\n      <td>0.722222</td>\n      <td>0.852118</td>\n      <td>-0.325422</td>\n    </tr>\n    <tr>\n      <th>(254.0, 286.0]</th>\n      <td>32</td>\n      <td>59</td>\n      <td>27</td>\n      <td>0.458746</td>\n      <td>1.185185</td>\n      <td>1.398348</td>\n      <td>0.169899</td>\n    </tr>\n    <tr>\n      <th>(286.0, 564.0]</th>\n      <td>32</td>\n      <td>60</td>\n      <td>28</td>\n      <td>0.458746</td>\n      <td>1.142857</td>\n      <td>1.348407</td>\n      <td>0.133531</td>\n    </tr>\n  </tbody>\n</table>\n</div>"
     },
     "execution_count": 10,
     "metadata": {},
     "output_type": "execute_result"
    }
   ],
   "source": [
    "df_chol = calcular_estatisticas_bivariada_continua(df, 'chol', 'flag_doente')\n",
    "df_chol"
   ],
   "metadata": {
    "collapsed": false,
    "ExecuteTime": {
     "start_time": "2023-11-20T19:42:49.067736Z"
    }
   }
  },
  {
   "cell_type": "code",
   "execution_count": 11,
   "outputs": [
    {
     "data": {
      "text/plain": "                 doentes  total  saudaveis  quantidade_media_doentes  \\\ntrestbps                                                               \n(93.999, 120.0]       37     97         60                  0.458746   \n(120.0, 126.0]        15     25         10                  0.458746   \n(126.0, 134.0]        27     62         35                  0.458746   \n(134.0, 144.6]        24     58         34                  0.458746   \n(144.6, 200.0]        36     61         25                  0.458746   \n\n                     odds  odds_ratio    logito  \ntrestbps                                         \n(93.999, 120.0]  0.616667    0.727578 -0.483427  \n(120.0, 126.0]   1.500000    1.769784  0.405465  \n(126.0, 134.0]   0.771429    0.910175 -0.259511  \n(134.0, 144.6]   0.705882    0.832840 -0.348307  \n(144.6, 200.0]   1.440000    1.698993  0.364643  ",
      "text/html": "<div>\n<style scoped>\n    .dataframe tbody tr th:only-of-type {\n        vertical-align: middle;\n    }\n\n    .dataframe tbody tr th {\n        vertical-align: top;\n    }\n\n    .dataframe thead th {\n        text-align: right;\n    }\n</style>\n<table border=\"1\" class=\"dataframe\">\n  <thead>\n    <tr style=\"text-align: right;\">\n      <th></th>\n      <th>doentes</th>\n      <th>total</th>\n      <th>saudaveis</th>\n      <th>quantidade_media_doentes</th>\n      <th>odds</th>\n      <th>odds_ratio</th>\n      <th>logito</th>\n    </tr>\n    <tr>\n      <th>trestbps</th>\n      <th></th>\n      <th></th>\n      <th></th>\n      <th></th>\n      <th></th>\n      <th></th>\n      <th></th>\n    </tr>\n  </thead>\n  <tbody>\n    <tr>\n      <th>(93.999, 120.0]</th>\n      <td>37</td>\n      <td>97</td>\n      <td>60</td>\n      <td>0.458746</td>\n      <td>0.616667</td>\n      <td>0.727578</td>\n      <td>-0.483427</td>\n    </tr>\n    <tr>\n      <th>(120.0, 126.0]</th>\n      <td>15</td>\n      <td>25</td>\n      <td>10</td>\n      <td>0.458746</td>\n      <td>1.500000</td>\n      <td>1.769784</td>\n      <td>0.405465</td>\n    </tr>\n    <tr>\n      <th>(126.0, 134.0]</th>\n      <td>27</td>\n      <td>62</td>\n      <td>35</td>\n      <td>0.458746</td>\n      <td>0.771429</td>\n      <td>0.910175</td>\n      <td>-0.259511</td>\n    </tr>\n    <tr>\n      <th>(134.0, 144.6]</th>\n      <td>24</td>\n      <td>58</td>\n      <td>34</td>\n      <td>0.458746</td>\n      <td>0.705882</td>\n      <td>0.832840</td>\n      <td>-0.348307</td>\n    </tr>\n    <tr>\n      <th>(144.6, 200.0]</th>\n      <td>36</td>\n      <td>61</td>\n      <td>25</td>\n      <td>0.458746</td>\n      <td>1.440000</td>\n      <td>1.698993</td>\n      <td>0.364643</td>\n    </tr>\n  </tbody>\n</table>\n</div>"
     },
     "execution_count": 11,
     "metadata": {},
     "output_type": "execute_result"
    }
   ],
   "source": [
    "df_trestbps = calcular_estatisticas_bivariada_continua(df, 'trestbps', 'flag_doente')\n",
    "df_trestbps"
   ],
   "metadata": {
    "collapsed": false,
    "ExecuteTime": {
     "start_time": "2023-11-20T19:42:49.097725800Z"
    }
   }
  },
  {
   "cell_type": "markdown",
   "metadata": {},
   "source": [
    "3. Construa um modelo de regressão logística com as variáveis qualitativas: ```sex + cp +  trestbps``` e com a variável quantitativa ```age```."
   ]
  },
  {
   "cell_type": "code",
   "execution_count": 12,
   "metadata": {
    "ExecuteTime": {
     "start_time": "2023-11-20T19:42:49.130805800Z"
    }
   },
   "outputs": [
    {
     "name": "stdout",
     "output_type": "stream",
     "text": [
      "Optimization terminated successfully.\n",
      "         Current function value: 0.476154\n",
      "         Iterations 6\n",
      "                           Logit Regression Results                           \n",
      "==============================================================================\n",
      "Dep. Variable:            flag_doente   No. Observations:                  303\n",
      "Model:                          Logit   Df Residuals:                      296\n",
      "Method:                           MLE   Df Model:                            6\n",
      "Date:                Mon, 20 Nov 2023   Pseudo R-squ.:                  0.3097\n",
      "Time:                        16:42:42   Log-Likelihood:                -144.27\n",
      "converged:                       True   LL-Null:                       -208.99\n",
      "Covariance Type:            nonrobust   LLR p-value:                 1.692e-25\n",
      "=================================================================================\n",
      "                    coef    std err          z      P>|z|      [0.025      0.975]\n",
      "---------------------------------------------------------------------------------\n",
      "Intercept        -8.3407      1.621     -5.145      0.000     -11.518      -5.163\n",
      "C(sex)[T.1.0]     1.8094      0.353      5.130      0.000       1.118       2.501\n",
      "C(cp)[T.2.0]     -0.0617      0.636     -0.097      0.923      -1.309       1.186\n",
      "C(cp)[T.3.0]      0.0715      0.573      0.125      0.901      -1.051       1.194\n",
      "C(cp)[T.4.0]      2.4789      0.553      4.485      0.000       1.396       3.562\n",
      "trestbps          0.0193      0.009      2.261      0.024       0.003       0.036\n",
      "age               0.0567      0.018      3.120      0.002       0.021       0.092\n",
      "=================================================================================\n"
     ]
    }
   ],
   "source": [
    "reglog = smf.logit(\"flag_doente ~ C(sex) + C(cp) + trestbps + age\"\n",
    "                   , data=df).fit()\n",
    "\n",
    "print(reglog.summary())"
   ]
  },
  {
   "cell_type": "code",
   "execution_count": 13,
   "outputs": [
    {
     "data": {
      "text/plain": "    age  sex   cp  trestbps   chol  fbs  restecg  thalach  exang  oldpeak  \\\n0  63.0  1.0  1.0     145.0  233.0  1.0      2.0    150.0    0.0      2.3   \n1  67.0  1.0  4.0     160.0  286.0  0.0      2.0    108.0    1.0      1.5   \n2  67.0  1.0  4.0     120.0  229.0  0.0      2.0    129.0    1.0      2.6   \n3  37.0  1.0  3.0     130.0  250.0  0.0      0.0    187.0    0.0      3.5   \n4  41.0  0.0  2.0     130.0  204.0  0.0      2.0    172.0    0.0      1.4   \n\n   slope   ca thal  num  flag_doente   predito  \n0    3.0  0.0  6.0    0            0  0.458229  \n1    2.0  3.0  3.0    2            1  0.944123  \n2    2.0  2.0  7.0    1            1  0.886566  \n3    3.0  0.0  3.0    0            0  0.134929  \n4    1.0  0.0  3.0    0            0  0.027278  ",
      "text/html": "<div>\n<style scoped>\n    .dataframe tbody tr th:only-of-type {\n        vertical-align: middle;\n    }\n\n    .dataframe tbody tr th {\n        vertical-align: top;\n    }\n\n    .dataframe thead th {\n        text-align: right;\n    }\n</style>\n<table border=\"1\" class=\"dataframe\">\n  <thead>\n    <tr style=\"text-align: right;\">\n      <th></th>\n      <th>age</th>\n      <th>sex</th>\n      <th>cp</th>\n      <th>trestbps</th>\n      <th>chol</th>\n      <th>fbs</th>\n      <th>restecg</th>\n      <th>thalach</th>\n      <th>exang</th>\n      <th>oldpeak</th>\n      <th>slope</th>\n      <th>ca</th>\n      <th>thal</th>\n      <th>num</th>\n      <th>flag_doente</th>\n      <th>predito</th>\n    </tr>\n  </thead>\n  <tbody>\n    <tr>\n      <th>0</th>\n      <td>63.0</td>\n      <td>1.0</td>\n      <td>1.0</td>\n      <td>145.0</td>\n      <td>233.0</td>\n      <td>1.0</td>\n      <td>2.0</td>\n      <td>150.0</td>\n      <td>0.0</td>\n      <td>2.3</td>\n      <td>3.0</td>\n      <td>0.0</td>\n      <td>6.0</td>\n      <td>0</td>\n      <td>0</td>\n      <td>0.458229</td>\n    </tr>\n    <tr>\n      <th>1</th>\n      <td>67.0</td>\n      <td>1.0</td>\n      <td>4.0</td>\n      <td>160.0</td>\n      <td>286.0</td>\n      <td>0.0</td>\n      <td>2.0</td>\n      <td>108.0</td>\n      <td>1.0</td>\n      <td>1.5</td>\n      <td>2.0</td>\n      <td>3.0</td>\n      <td>3.0</td>\n      <td>2</td>\n      <td>1</td>\n      <td>0.944123</td>\n    </tr>\n    <tr>\n      <th>2</th>\n      <td>67.0</td>\n      <td>1.0</td>\n      <td>4.0</td>\n      <td>120.0</td>\n      <td>229.0</td>\n      <td>0.0</td>\n      <td>2.0</td>\n      <td>129.0</td>\n      <td>1.0</td>\n      <td>2.6</td>\n      <td>2.0</td>\n      <td>2.0</td>\n      <td>7.0</td>\n      <td>1</td>\n      <td>1</td>\n      <td>0.886566</td>\n    </tr>\n    <tr>\n      <th>3</th>\n      <td>37.0</td>\n      <td>1.0</td>\n      <td>3.0</td>\n      <td>130.0</td>\n      <td>250.0</td>\n      <td>0.0</td>\n      <td>0.0</td>\n      <td>187.0</td>\n      <td>0.0</td>\n      <td>3.5</td>\n      <td>3.0</td>\n      <td>0.0</td>\n      <td>3.0</td>\n      <td>0</td>\n      <td>0</td>\n      <td>0.134929</td>\n    </tr>\n    <tr>\n      <th>4</th>\n      <td>41.0</td>\n      <td>0.0</td>\n      <td>2.0</td>\n      <td>130.0</td>\n      <td>204.0</td>\n      <td>0.0</td>\n      <td>2.0</td>\n      <td>172.0</td>\n      <td>0.0</td>\n      <td>1.4</td>\n      <td>1.0</td>\n      <td>0.0</td>\n      <td>3.0</td>\n      <td>0</td>\n      <td>0</td>\n      <td>0.027278</td>\n    </tr>\n  </tbody>\n</table>\n</div>"
     },
     "execution_count": 13,
     "metadata": {},
     "output_type": "execute_result"
    }
   ],
   "source": [
    "df['predito'] = reglog.predict(df)\n",
    "df.head()"
   ],
   "metadata": {
    "collapsed": false,
    "ExecuteTime": {
     "start_time": "2023-11-20T19:42:49.154832400Z"
    }
   }
  },
  {
   "cell_type": "markdown",
   "metadata": {},
   "source": [
    "4. Avalie o seu modelo quanto a **calibragem**:\n",
    "- Calcule a probabilidade de evento predita segundo o seu modelo\n",
    "- Categorize essa probabilidade em G=5 grupos\n",
    "- Calcule a probabilidade de evento predita média por grupo\n",
    "- Calcule a taxa de eventos (média da variável indicadora de eventos) por grupo\n",
    "- Compare graficamente o valor eperado versus observado para a taxa de maus por grupo"
   ]
  },
  {
   "cell_type": "code",
   "execution_count": 14,
   "metadata": {
    "ExecuteTime": {
     "start_time": "2023-11-20T19:42:49.166374400Z"
    }
   },
   "outputs": [
    {
     "data": {
      "text/plain": "(0.0131, 0.143]    62\n(0.143, 0.287]     59\n(0.287, 0.586]     62\n(0.586, 0.822]     59\n(0.822, 0.944]     61\nName: predito, dtype: int64"
     },
     "execution_count": 14,
     "metadata": {},
     "output_type": "execute_result"
    }
   ],
   "source": [
    "# Verificando a calibragem do modelo\n",
    "cat_pred = pd.qcut(df['predito'], 5, duplicates='drop')\n",
    "cat_pred.value_counts().sort_index()"
   ]
  },
  {
   "cell_type": "code",
   "execution_count": 15,
   "outputs": [
    {
     "data": {
      "text/plain": "                 contagem\npredito                  \n(0.0131, 0.143]        62\n(0.143, 0.287]         59\n(0.287, 0.586]         62\n(0.586, 0.822]         59\n(0.822, 0.944]         61",
      "text/html": "<div>\n<style scoped>\n    .dataframe tbody tr th:only-of-type {\n        vertical-align: middle;\n    }\n\n    .dataframe tbody tr th {\n        vertical-align: top;\n    }\n\n    .dataframe thead th {\n        text-align: right;\n    }\n</style>\n<table border=\"1\" class=\"dataframe\">\n  <thead>\n    <tr style=\"text-align: right;\">\n      <th></th>\n      <th>contagem</th>\n    </tr>\n    <tr>\n      <th>predito</th>\n      <th></th>\n    </tr>\n  </thead>\n  <tbody>\n    <tr>\n      <th>(0.0131, 0.143]</th>\n      <td>62</td>\n    </tr>\n    <tr>\n      <th>(0.143, 0.287]</th>\n      <td>59</td>\n    </tr>\n    <tr>\n      <th>(0.287, 0.586]</th>\n      <td>62</td>\n    </tr>\n    <tr>\n      <th>(0.586, 0.822]</th>\n      <td>59</td>\n    </tr>\n    <tr>\n      <th>(0.822, 0.944]</th>\n      <td>61</td>\n    </tr>\n  </tbody>\n</table>\n</div>"
     },
     "execution_count": 15,
     "metadata": {},
     "output_type": "execute_result"
    }
   ],
   "source": [
    "group_reg = df.groupby(cat_pred)\n",
    "qualid = group_reg[['flag_doente']].count().rename(columns = {'flag_doente': 'contagem'})\n",
    "qualid"
   ],
   "metadata": {
    "collapsed": false,
    "ExecuteTime": {
     "start_time": "2023-11-20T19:42:49.194938500Z"
    }
   }
  },
  {
   "cell_type": "code",
   "execution_count": 16,
   "outputs": [
    {
     "data": {
      "text/plain": "                 contagem   predito\npredito                            \n(0.0131, 0.143]        62  0.072008\n(0.143, 0.287]         59  0.209626\n(0.287, 0.586]         62  0.435175\n(0.586, 0.822]         59  0.708861\n(0.822, 0.944]         61  0.874819",
      "text/html": "<div>\n<style scoped>\n    .dataframe tbody tr th:only-of-type {\n        vertical-align: middle;\n    }\n\n    .dataframe tbody tr th {\n        vertical-align: top;\n    }\n\n    .dataframe thead th {\n        text-align: right;\n    }\n</style>\n<table border=\"1\" class=\"dataframe\">\n  <thead>\n    <tr style=\"text-align: right;\">\n      <th></th>\n      <th>contagem</th>\n      <th>predito</th>\n    </tr>\n    <tr>\n      <th>predito</th>\n      <th></th>\n      <th></th>\n    </tr>\n  </thead>\n  <tbody>\n    <tr>\n      <th>(0.0131, 0.143]</th>\n      <td>62</td>\n      <td>0.072008</td>\n    </tr>\n    <tr>\n      <th>(0.143, 0.287]</th>\n      <td>59</td>\n      <td>0.209626</td>\n    </tr>\n    <tr>\n      <th>(0.287, 0.586]</th>\n      <td>62</td>\n      <td>0.435175</td>\n    </tr>\n    <tr>\n      <th>(0.586, 0.822]</th>\n      <td>59</td>\n      <td>0.708861</td>\n    </tr>\n    <tr>\n      <th>(0.822, 0.944]</th>\n      <td>61</td>\n      <td>0.874819</td>\n    </tr>\n  </tbody>\n</table>\n</div>"
     },
     "execution_count": 16,
     "metadata": {},
     "output_type": "execute_result"
    }
   ],
   "source": [
    "qualid['predito'] = group_reg['predito'].mean()\n",
    "qualid"
   ],
   "metadata": {
    "collapsed": false,
    "ExecuteTime": {
     "start_time": "2023-11-20T19:42:49.254967400Z"
    }
   }
  },
  {
   "cell_type": "code",
   "execution_count": 17,
   "outputs": [
    {
     "data": {
      "text/plain": "                 contagem   predito  pct_doente\npredito                                        \n(0.0131, 0.143]        62  0.072008    0.080645\n(0.143, 0.287]         59  0.209626    0.152542\n(0.287, 0.586]         62  0.435175    0.483871\n(0.586, 0.822]         59  0.708861    0.762712\n(0.822, 0.944]         61  0.874819    0.819672",
      "text/html": "<div>\n<style scoped>\n    .dataframe tbody tr th:only-of-type {\n        vertical-align: middle;\n    }\n\n    .dataframe tbody tr th {\n        vertical-align: top;\n    }\n\n    .dataframe thead th {\n        text-align: right;\n    }\n</style>\n<table border=\"1\" class=\"dataframe\">\n  <thead>\n    <tr style=\"text-align: right;\">\n      <th></th>\n      <th>contagem</th>\n      <th>predito</th>\n      <th>pct_doente</th>\n    </tr>\n    <tr>\n      <th>predito</th>\n      <th></th>\n      <th></th>\n      <th></th>\n    </tr>\n  </thead>\n  <tbody>\n    <tr>\n      <th>(0.0131, 0.143]</th>\n      <td>62</td>\n      <td>0.072008</td>\n      <td>0.080645</td>\n    </tr>\n    <tr>\n      <th>(0.143, 0.287]</th>\n      <td>59</td>\n      <td>0.209626</td>\n      <td>0.152542</td>\n    </tr>\n    <tr>\n      <th>(0.287, 0.586]</th>\n      <td>62</td>\n      <td>0.435175</td>\n      <td>0.483871</td>\n    </tr>\n    <tr>\n      <th>(0.586, 0.822]</th>\n      <td>59</td>\n      <td>0.708861</td>\n      <td>0.762712</td>\n    </tr>\n    <tr>\n      <th>(0.822, 0.944]</th>\n      <td>61</td>\n      <td>0.874819</td>\n      <td>0.819672</td>\n    </tr>\n  </tbody>\n</table>\n</div>"
     },
     "execution_count": 17,
     "metadata": {},
     "output_type": "execute_result"
    }
   ],
   "source": [
    "qualid['pct_doente'] = group_reg['flag_doente'].mean()\n",
    "qualid"
   ],
   "metadata": {
    "collapsed": false,
    "ExecuteTime": {
     "start_time": "2023-11-20T19:42:49.279498300Z"
    }
   }
  },
  {
   "cell_type": "code",
   "execution_count": 18,
   "outputs": [
    {
     "data": {
      "text/plain": "Text(0.5, 0, 'Grupo')"
     },
     "execution_count": 18,
     "metadata": {},
     "output_type": "execute_result"
    },
    {
     "data": {
      "text/plain": "<Figure size 640x480 with 1 Axes>",
      "image/png": "[encoded data removed]"
     },
     "metadata": {},
     "output_type": "display_data"
    }
   ],
   "source": [
    "fig = plt.figure()\n",
    "ax = fig.add_subplot(1, 1, 1)\n",
    "\n",
    "ax = qualid['pct_doente'].plot(label='%Predito')\n",
    "ax = qualid['predito'].plot(label='%Observado')\n",
    "\n",
    "ticks = ax.set_xticks([0, 1, 2, 3, 4])\n",
    "labels = ax.set_xticklabels([1, 2, 3, 4, 5])\n",
    "ax.legend(loc=\"lower right\")\n",
    "ax.set_ylabel('Probabilidade de evento')\n",
    "ax.set_xlabel('Grupo')"
   ],
   "metadata": {
    "collapsed": false,
    "ExecuteTime": {
     "start_time": "2023-11-20T19:42:49.292494500Z"
    }
   }
  },
  {
   "cell_type": "markdown",
   "metadata": {},
   "source": [
    "5. Avalie o seu modelo quanto a discriminação calculando acurácia, GINI e KS."
   ]
  },
  {
   "cell_type": "code",
   "execution_count": 19,
   "metadata": {
    "ExecuteTime": {
     "start_time": "2023-11-20T19:42:49.321498400Z"
    }
   },
   "outputs": [
    {
     "name": "stdout",
     "output_type": "stream",
     "text": [
      "Acurácia: 79.54%\n",
      "KS: 59.30% \n",
      "AUC: 85.19% \n",
      "GINI: 70.39%\n"
     ]
    }
   ],
   "source": [
    "from sklearn import metrics\n",
    "from scipy.stats import ks_2samp\n",
    "\n",
    "acc = metrics.accuracy_score(df['flag_doente'], df['predito']>.5)\n",
    "print('Acurácia: {0:.2f}%'.format(acc*100))\n",
    "\n",
    "#AUC\n",
    "fpr, tpr, thresholds = metrics.roc_curve(df['flag_doente'], df['predito'])\n",
    "auc_ = metrics.auc(fpr, tpr)\n",
    "#Gini\n",
    "gini = 2*auc_ -1\n",
    "#KS\n",
    "ks = ks_2samp(df.loc[df['flag_doente'] == 1, 'predito'], df.loc[df['flag_doente'] != 1, 'predito']).statistic\n",
    "\n",
    "print('KS: {0:.2f}% \\nAUC: {1:.2f}% \\nGINI: {2:.2f}%'\n",
    "      .format(ks*100, auc_*100, gini*100))"
   ]
  },
  {
   "cell_type": "markdown",
   "metadata": {},
   "source": [
    "6. tente melhorar o modelo obtido, por exemplo inserindo ou removendo variáveis.  \n",
    "    Avalie as características do seu modelo (calibragem e acurácia)."
   ]
  },
  {
   "cell_type": "code",
   "execution_count": 30,
   "outputs": [],
   "source": [
    "# excluir as linhas com ? da variável ca e thal\n",
    "df = df[df.ca != '?']\n",
    "df = df[df.thal != '?']\n"
   ],
   "metadata": {
    "collapsed": false,
    "ExecuteTime": {
     "end_time": "2023-11-20T20:02:25.602224100Z",
     "start_time": "2023-11-20T20:02:25.582678500Z"
    }
   }
  },
  {
   "cell_type": "code",
   "execution_count": 31,
   "outputs": [
    {
     "name": "stdout",
     "output_type": "stream",
     "text": [
      "<class 'pandas.core.frame.DataFrame'>\n",
      "Int64Index: 297 entries, 0 to 301\n",
      "Data columns (total 16 columns):\n",
      " #   Column       Non-Null Count  Dtype  \n",
      "---  ------       --------------  -----  \n",
      " 0   age          297 non-null    float64\n",
      " 1   sex          297 non-null    float64\n",
      " 2   cp           297 non-null    float64\n",
      " 3   trestbps     297 non-null    float64\n",
      " 4   chol         297 non-null    float64\n",
      " 5   fbs          297 non-null    float64\n",
      " 6   restecg      297 non-null    float64\n",
      " 7   thalach      297 non-null    float64\n",
      " 8   exang        297 non-null    float64\n",
      " 9   oldpeak      297 non-null    float64\n",
      " 10  slope        297 non-null    float64\n",
      " 11  ca           297 non-null    object \n",
      " 12  thal         297 non-null    object \n",
      " 13  num          297 non-null    int64  \n",
      " 14  flag_doente  297 non-null    int64  \n",
      " 15  predito      297 non-null    float64\n",
      "dtypes: float64(12), int64(2), object(2)\n",
      "memory usage: 39.4+ KB\n"
     ]
    }
   ],
   "source": [
    "df.info()"
   ],
   "metadata": {
    "collapsed": false,
    "ExecuteTime": {
     "end_time": "2023-11-20T20:02:28.698118400Z",
     "start_time": "2023-11-20T20:02:28.679955700Z"
    }
   }
  },
  {
   "cell_type": "code",
   "execution_count": 34,
   "metadata": {
    "ExecuteTime": {
     "end_time": "2023-11-20T20:03:44.615569400Z",
     "start_time": "2023-11-20T20:03:44.530833800Z"
    }
   },
   "outputs": [
    {
     "name": "stdout",
     "output_type": "stream",
     "text": [
      "Optimization terminated successfully.\n",
      "         Current function value: 0.312610\n",
      "         Iterations 8\n",
      "                           Logit Regression Results                           \n",
      "==============================================================================\n",
      "Dep. Variable:            flag_doente   No. Observations:                  297\n",
      "Model:                          Logit   Df Residuals:                      279\n",
      "Method:                           MLE   Df Model:                           17\n",
      "Date:                Mon, 20 Nov 2023   Pseudo R-squ.:                  0.5470\n",
      "Time:                        17:03:44   Log-Likelihood:                -92.845\n",
      "converged:                       True   LL-Null:                       -204.97\n",
      "Covariance Type:            nonrobust   LLR p-value:                 3.621e-38\n",
      "===================================================================================\n",
      "                      coef    std err          z      P>|z|      [0.025      0.975]\n",
      "-----------------------------------------------------------------------------------\n",
      "Intercept          -6.2021      2.937     -2.111      0.035     -11.959      -0.445\n",
      "C(sex)[T.1.0]       1.6811      0.546      3.081      0.002       0.612       2.750\n",
      "C(cp)[T.2.0]        1.4315      0.799      1.792      0.073      -0.134       2.997\n",
      "C(cp)[T.3.0]        0.3050      0.689      0.442      0.658      -1.046       1.656\n",
      "C(cp)[T.4.0]        2.4063      0.699      3.440      0.001       1.035       3.777\n",
      "C(exang)[T.1.0]     0.6150      0.445      1.381      0.167      -0.258       1.488\n",
      "C(slope)[T.2.0]     1.3160      0.480      2.740      0.006       0.375       2.257\n",
      "C(slope)[T.3.0]     0.6112      0.912      0.670      0.503      -1.176       2.399\n",
      "C(ca)[T.1.0]        2.2185      0.502      4.418      0.000       1.234       3.203\n",
      "C(ca)[T.2.0]        3.1170      0.757      4.116      0.000       1.633       4.601\n",
      "C(ca)[T.3.0]        2.0949      0.926      2.261      0.024       0.279       3.911\n",
      "C(thal)[T.6.0]     -0.3231      0.793     -0.408      0.684      -1.877       1.230\n",
      "C(thal)[T.7.0]      1.3583      0.429      3.165      0.002       0.517       2.199\n",
      "age                -0.0210      0.025     -0.842      0.400      -0.070       0.028\n",
      "trestbps            0.0268      0.011      2.368      0.018       0.005       0.049\n",
      "chol                0.0051      0.004      1.285      0.199      -0.003       0.013\n",
      "thalach            -0.0198      0.012     -1.685      0.092      -0.043       0.003\n",
      "oldpeak             0.4060      0.232      1.751      0.080      -0.048       0.860\n",
      "===================================================================================\n"
     ]
    },
    {
     "data": {
      "text/plain": "'\\n- age: idade do paciente em anos\\n- sex: sexo (1 = male; 0 = female)  \\n- cp: tipo de dor no peito\\n  - 1: angina típica\\n  - 2: angina atípica\\n  - 3: dor não-angina\\n  - 4: assintomático\\n- trestbps: pressão sanguínea em repouso (em mm Hg na admissão ao hospital\\n- chol: colesterol sérico em mg/dl\\n- fbs: (açúcar no sangue em jejum > 120 mg/dl) (1 = True; 0 = False)\\n- restecg: resultados eletrocardiográficos em repouso\\n  - 0: normal\\n  - 1: tendo anormalidade da onda ST-T (Inversões de onda T e / ou ST com elevação ou depressão de > 0.05 mV)\\n  - 2: mostrando hipertrofia ventricular esquerda provável ou definitiva pelos critérios de Estes\\n- thalach: frequência cardíaca máxima alcançada\\n- exang: angina induzida por exercício(1 = sim; 0 = não)\\n- oldpeak = Depressão de ST induzida por exercício em relação ao repouso\\n- slope: Depressão de ST induzida por exercício em relação ao repouso\\n  - 1: inclinação ascendente\\n  - 2: estável\\n  - 3: inclinação descendente\\n- ca: número de vasos principais (0-3) coloridos por fluorosopia\\n- thal: 3 = normal; 6 = defeito corrigido; 7 = defeito reversível\\n- num: diagnóstico de doença cardíaga (status de doença angiográfica) \\n'"
     },
     "execution_count": 34,
     "metadata": {},
     "output_type": "execute_result"
    }
   ],
   "source": [
    "reglog = smf.logit(\"flag_doente ~ age + C(sex) + C(cp) + trestbps + chol + thalach + C(exang) + oldpeak + C(slope) + C(ca) + C(thal)\"\n",
    "                   , data=df).fit()\n",
    "\n",
    "print(reglog.summary())\n",
    "\n",
    "\n",
    "'''\n",
    "- age: idade do paciente em anos\n",
    "- sex: sexo (1 = male; 0 = female)  \n",
    "- cp: tipo de dor no peito\n",
    "  - 1: angina típica\n",
    "  - 2: angina atípica\n",
    "  - 3: dor não-angina\n",
    "  - 4: assintomático\n",
    "- trestbps: pressão sanguínea em repouso (em mm Hg na admissão ao hospital\n",
    "- chol: colesterol sérico em mg/dl\n",
    "- fbs: (açúcar no sangue em jejum > 120 mg/dl) (1 = True; 0 = False)\n",
    "- restecg: resultados eletrocardiográficos em repouso\n",
    "  - 0: normal\n",
    "  - 1: tendo anormalidade da onda ST-T (Inversões de onda T e / ou ST com elevação ou depressão de > 0.05 mV)\n",
    "  - 2: mostrando hipertrofia ventricular esquerda provável ou definitiva pelos critérios de Estes\n",
    "- thalach: frequência cardíaca máxima alcançada\n",
    "- exang: angina induzida por exercício(1 = sim; 0 = não)\n",
    "- oldpeak = Depressão de ST induzida por exercício em relação ao repouso\n",
    "- slope: Depressão de ST induzida por exercício em relação ao repouso\n",
    "  - 1: inclinação ascendente\n",
    "  - 2: estável\n",
    "  - 3: inclinação descendente\n",
    "- ca: número de vasos principais (0-3) coloridos por fluorosopia\n",
    "- thal: 3 = normal; 6 = defeito corrigido; 7 = defeito reversível\n",
    "- num: diagnóstico de doença cardíaga (status de doença angiográfica) \n",
    "'''"
   ]
  },
  {
   "cell_type": "code",
   "execution_count": 35,
   "outputs": [
    {
     "data": {
      "text/plain": "Text(0.5, 0, 'Grupo')"
     },
     "execution_count": 35,
     "metadata": {},
     "output_type": "execute_result"
    },
    {
     "data": {
      "text/plain": "<Figure size 640x480 with 1 Axes>",
      "image/png": "[encoded data removed]"
     },
     "metadata": {},
     "output_type": "display_data"
    }
   ],
   "source": [
    "df['predito2'] = reglog.predict(df)\n",
    "\n",
    "# Verificando a calibragem do modelo\n",
    "cat_pred = pd.qcut(df['predito2'], 5, duplicates='drop')\n",
    "cat_pred.value_counts().sort_index()\n",
    "group_reg = df.groupby(cat_pred)\n",
    "qualid = group_reg[['flag_doente']].count().rename(columns = {'flag_doente': 'contagem'}) \n",
    "qualid['predito2'] = group_reg['predito2'].mean()\n",
    "qualid['pct_doente'] = group_reg['flag_doente'].mean()\n",
    "\n",
    "fig = plt.figure()\n",
    "ax = fig.add_subplot(1, 1, 1)\n",
    "\n",
    "ax = qualid['pct_doente'].plot(label='%Predito')\n",
    "ax = qualid['predito2'].plot(label='%Observado')\n",
    "\n",
    "ticks = ax.set_xticks([0, 1, 2, 3, 4])\n",
    "labels = ax.set_xticklabels([1, 2, 3, 4, 5])\n",
    "ax.legend(loc=\"lower right\")\n",
    "ax.set_ylabel('Probabilidade de evento')\n",
    "ax.set_xlabel('Grupo')"
   ],
   "metadata": {
    "collapsed": false,
    "ExecuteTime": {
     "end_time": "2023-11-20T20:15:01.217318Z",
     "start_time": "2023-11-20T20:15:00.861680800Z"
    }
   }
  },
  {
   "cell_type": "code",
   "execution_count": 36,
   "outputs": [
    {
     "name": "stdout",
     "output_type": "stream",
     "text": [
      "Acurácia: 89.23%\n"
     ]
    }
   ],
   "source": [
    "acc = metrics.accuracy_score(df['flag_doente'], df['predito2']>.5)\n",
    "print('Acurácia: {0:.2f}%'.format(acc*100))"
   ],
   "metadata": {
    "collapsed": false,
    "ExecuteTime": {
     "end_time": "2023-11-20T20:16:32.388948300Z",
     "start_time": "2023-11-20T20:16:32.373144Z"
    }
   }
  },
  {
   "cell_type": "markdown",
   "source": [
    "- Acrescentando mais variáveis ao modelo, a calibragem melhorou e a acurácia aumentou."
   ],
   "metadata": {
    "collapsed": false
   }
  }
 ],
 "metadata": {
  "kernelspec": {
   "display_name": "Python 3",
   "language": "python",
   "name": "python3"
  },
  "language_info": {
   "codemirror_mode": {
    "name": "ipython",
    "version": 3
   },
   "file_extension": ".py",
   "mimetype": "text/x-python",
   "name": "python",
   "nbconvert_exporter": "python",
   "pygments_lexer": "ipython3",
   "version": "3.8.5"
  }
 },
 "nbformat": 4,
 "nbformat_minor": 4
}
