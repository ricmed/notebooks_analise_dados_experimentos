{
 "cells": [
  {
   "cell_type": "markdown",
   "metadata": {},
   "source": [
    "1. Qual a principal diferença entre um *behaviour score* e um *credit score*?"
   ]
  },
  {
   "cell_type": "markdown",
   "metadata": {},
   "source": [
    "A principal diferença entre um \"behavior score\" (pontuação de comportamento) e um \"credit score\" (pontuação de crédito) reside nas fontes de dados e nos métodos utilizados para calcular as pontuações, bem como nos objetivos específicos de cada um.\n",
    "\n",
    "1. **Credit Score**: \n",
    "   - **Fontes de Dados**: Geralmente baseia-se em dados históricos de crédito do indivíduo.\n",
    "   - **Objetivo**: Avaliar a capacidade e a probabilidade de um indivíduo pagar suas dívidas no futuro.\n",
    "   - **Métodos**: Utiliza modelos estatísticos ou de machine learning para prever o risco de inadimplência.\n",
    "\n",
    "2. **Behavior Score**:\n",
    "   - **Fontes de Dados**: Pode incluir uma variedade mais ampla de dados, não limitados a informações de crédito.\n",
    "   - **Objetivo**: Avaliar o comportamento geral do consumidor, muitas vezes com o objetivo de personalizar ofertas, entender o comportamento de compra, ou prever a probabilidade de certos comportamentos, como a fidelização de clientes ou a probabilidade de resposta a campanhas de marketing.\n",
    "   - **Métodos**: Pode utilizar técnicas avançadas de machine learning e análise de dados para identificar padrões de comportamento e prever ações futuras."
   ]
  },
  {
   "cell_type": "markdown",
   "metadata": {},
   "source": [
    "2. Por que é tão comum se estabelecer janelas de desempenho de 12 meses, e 12 safras para o desenvolvimento de modelos?"
   ]
  },
  {
   "cell_type": "markdown",
   "metadata": {},
   "source": [
    "A escolha de estabelecer janelas de desempenho de 12 meses e 12 safras no desenvolvimento de modelos de data science, particularmente em setores como finanças e crédito, tem várias razões, muitas das quais estão enraizadas na necessidade de equilibrar a precisão do modelo, relevância dos dados, e ciclos econômicos ou comportamentais.\n",
    "\n",
    "1. **Cobertura de Ciclos Anuais Completos**:\n",
    "   - **Ciclos de Negócios e Comportamentais**: Um ano é um período suficientemente longo para cobrir a maioria dos ciclos de negócios e padrões comportamentais sazonais (como feriados, mudanças de estação, e eventos anuais). Isso é especialmente relevante em setores como varejo, onde o comportamento do consumidor varia significativamente ao longo do ano.\n",
    "   - **Padrões de Crédito e Finanças**: Em finanças, muitos relatórios e ciclos de crédito são baseados em anos fiscais. Um período de 12 meses permite a captura de padrões completos de comportamento de pagamento e desempenho financeiro.\n",
    "\n",
    "2. **Estabilidade e Relevância dos Dados**:\n",
    "   - **Variação Reduzida**: Um período de 12 meses ajuda a suavizar variações de curto prazo e a obter uma visão mais estável e representativa do comportamento ou do desempenho.\n",
    "   - **Relevância Temporal**: Dados mais antigos podem ser menos relevantes para prever comportamentos ou tendências futuras. Um período de 12 meses é frequentemente um bom equilíbrio entre capturar dados suficientes para análise estatística significativa e manter a relevância.\n",
    "\n",
    "3. **Consistência e Comparabilidade**:\n",
    "   - **Benchmarking**: Ao usar uma janela de 12 meses, as organizações podem comparar de forma mais consistente o desempenho ao longo do tempo e entre diferentes segmentos ou produtos.\n",
    "   - **Padrões do Setor**: Muitos setores adotam essa convenção, facilitando a comparação e a comunicação entre diferentes organizações e partes interessadas.\n",
    "\n",
    "4. **Práticas Regulatórias e de Reporte**:\n",
    "   - **Conformidade com Regulamentações**: Em muitas jurisdições, as regulamentações financeiras e de reporte são estruturadas em torno de ciclos anuais, tornando a janela de 12 meses um padrão conveniente e compatível.\n",
    "\n",
    "5. **Validação de Modelos e Testes de Desempenho**:\n",
    "   - **Testes Robustos**: Um período de 12 meses permite que os modelos sejam testados em uma variedade de condições de mercado e ciclos de negócios, aumentando a robustez e a confiabilidade dos modelos."
   ]
  },
  {
   "cell_type": "markdown",
   "metadata": {},
   "source": [
    "3. Qual a diferença entre amostra *out of time* e amostra *out of sample*?"
   ]
  },
  {
   "cell_type": "markdown",
   "metadata": {},
   "source": [
    "A distinção entre amostra \"out of time\" (fora do tempo) e amostra \"out of sample\" (fora da amostra) é fundamental em data science e modelagem preditiva, especialmente em contextos onde a temporalidade dos dados é crucial, como na análise financeira ou de séries temporais.\n",
    "\n",
    "Em suma, enquanto a amostra out of sample é uma técnica geral de validação de modelos para verificar a generalização em dados não vistos, a amostra out of time é uma abordagem específica que leva em conta a dimensão temporal. Esta última é particularmente importante em cenários onde os padrões nos dados podem mudar ao longo do tempo, tornando-a uma prática valiosa em setores dinâmicos ou em análises de séries temporais. Ambas as abordagens são essenciais para garantir que os modelos sejam robustos, confiáveis e aplicáveis em situações do mundo real."
   ]
  },
  {
   "cell_type": "markdown",
   "metadata": {},
   "source": [
    "4. Se os dados da variavel resposta estão sistematicamente corrompidos para duas das safras de desenvolvimento, o que você faria?"
   ]
  },
  {
   "cell_type": "markdown",
   "metadata": {},
   "source": [
    "Quando se identifica que os dados da variável resposta estão sistematicamente corrompidos em duas das safras de desenvolvimento, é crucial abordar este problema com cuidado, pois a qualidade dos dados é fundamental para a confiabilidade e validade de qualquer modelo de data science. Aqui estão as etapas que você pode considerar:\n",
    "\n",
    "1. **Avaliar a Extensão do Problema**:\n",
    "   - Primeiramente, é necessário avaliar a natureza e a extensão da corrupção dos dados. Isso inclui entender como, por que, e em que medida os dados estão corrompidos. É um problema de dados faltantes, entradas errôneas, ou viés?\n",
    "\n",
    "2. **Determinar a Causa**:\n",
    "   - Pode incluir erros no processo de coleta de dados, falhas em sistemas de armazenamento, ou erros na transmissão ou conversão de dados.\n",
    "\n",
    "3. **Corrigir ou Remover Dados Corrompidos**:\n",
    "   - Correção dos dados corrompidos. Isso pode envolver a reconstrução dos dados a partir de outras fontes ou a correção de erros identificados.\n",
    "   - Se a correção não for possível, considerar remover os dados corrompidos. Embora isso possa reduzir o tamanho da amostra, manter dados incorretos pode ser mais prejudicial ao modelo.\n",
    "\n",
    "4. **Análise de Sensibilidade**:\n",
    "   - Avalia o impacto dos dados corrompidos no modelo. Isso envolve comparar os resultados do modelo com e sem os dados corrompidos.\n",
    "\n",
    "5. **Uso de Técnicas Robustas de Modelagem**:\n",
    "   - Aplicar técnicas de modelagem que sejam robustas a dados imperfeitos. Por exemplo, alguns modelos podem lidar melhor com dados faltantes ou outliers.\n"
   ]
  }
 ],
 "metadata": {
  "kernelspec": {
   "display_name": "Python 3",
   "language": "python",
   "name": "python3"
  },
  "language_info": {
   "codemirror_mode": {
    "name": "ipython",
    "version": 3
   },
   "file_extension": ".py",
   "mimetype": "text/x-python",
   "name": "python",
   "nbconvert_exporter": "python",
   "pygments_lexer": "ipython3",
   "version": "3.8.5"
  },
  "toc": {
   "base_numbering": 1,
   "nav_menu": {},
   "number_sections": false,
   "sideBar": true,
   "skip_h1_title": true,
   "title_cell": "Índice",
   "title_sidebar": "Conteúdo",
   "toc_cell": false,
   "toc_position": {},
   "toc_section_display": true,
   "toc_window_display": false
  },
  "varInspector": {
   "cols": {
    "lenName": 16,
    "lenType": 16,
    "lenVar": 40
   },
   "kernels_config": {
    "python": {
     "delete_cmd_postfix": "",
     "delete_cmd_prefix": "del ",
     "library": "var_list.py",
     "varRefreshCmd": "print(var_dic_list())"
    },
    "r": {
     "delete_cmd_postfix": ") ",
     "delete_cmd_prefix": "rm(",
     "library": "var_list.r",
     "varRefreshCmd": "cat(var_dic_list()) "
    }
   },
   "types_to_exclude": [
    "module",
    "function",
    "builtin_function_or_method",
    "instance",
    "_Feature"
   ],
   "window_display": false
  }
 },
 "nbformat": 4,
 "nbformat_minor": 4
}
