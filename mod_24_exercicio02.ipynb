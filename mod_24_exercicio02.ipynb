{
 "cells": [
  {
   "cell_type": "markdown",
   "source": [
    "## **Cite 5 diferenças entre o AdaBoost e o GBM.**\n",
    "\n",
    "1. **Método de Construção dos Modelos:**\n",
    "   - **AdaBoost (Adaptive Boosting):** AdaBoost começa com um modelo base simples e melhora iterativamente, ajustando os pesos das instâncias com base nos erros do modelo anterior. Cada novo modelo concentra-se mais nas instâncias que foram mal classificadas anteriormente.\n",
    "   - **Gradient Boosting Machine (GBM):** GBM também constrói modelos de forma iterativa, mas em vez de ajustar os pesos das instâncias, ele ajusta o próprio modelo, tentando corrigir os erros dos modelos anteriores. Ele faz isso minimizando a função de perda do modelo, usando o gradiente descendente.\n",
    "\n",
    "2. **Ponderação das Instâncias vs. Resíduos:**\n",
    "   - **AdaBoost:** Ajusta os pesos das instâncias no conjunto de dados. Instâncias mal classificadas ganham mais peso para que o modelo subsequente se concentre nelas.\n",
    "   - **GBM:** Trabalha com os resíduos (erros) do modelo anterior. Em vez de dar mais peso às instâncias, ele tenta reduzir os resíduos (a diferença entre a previsão e o valor real).\n",
    "\n",
    "3. **Função de Perda:**\n",
    "   - **AdaBoost:** Utiliza uma função de perda exponencial, que é mais sensível a classificações incorretas.\n",
    "   - **GBM:** É mais flexível em relação à função de perda e pode ser adaptado para diferentes tipos de problemas, como regressão e classificação, usando funções de perda específicas.\n",
    "\n",
    "4. **Sensibilidade a Dados Ruidosos e Outliers:**\n",
    "   - **AdaBoost:** É mais sensível a outliers e ruídos, pois dá mais peso às instâncias difíceis, que podem incluir outliers.\n",
    "   - **GBM:** É relativamente mais robusto a outliers e ruídos, pois se concentra em reduzir os erros (resíduos) de forma mais geral.\n",
    "\n",
    "5. **Complexidade Computacional:**\n",
    "   - **AdaBoost:** Geralmente tem uma complexidade computacional menor, pois os modelos base são frequentemente simples (como stumps de decisão).\n",
    "   - **GBM:** Pode ter uma complexidade computacional maior, especialmente com grandes conjuntos de dados e muitas iterações, devido ao uso de gradiente descendente e à necessidade de otimizar a função de perda.\n"
   ],
   "metadata": {
    "collapsed": false
   },
   "id": "e9fbcbc74eafeefc"
  },
  {
   "cell_type": "markdown",
   "source": [
    "## **Acesse o link Scikit-learn – GBM, e crie um jupyter notebook contendo o exemplo de classificação e de regressão do GBM.**"
   ],
   "metadata": {
    "collapsed": false
   },
   "id": "d82db8689d9648ea"
  },
  {
   "cell_type": "code",
   "execution_count": 1,
   "outputs": [
    {
     "name": "stdout",
     "output_type": "stream",
     "text": [
      "Classification Accuracy: 0.91\n"
     ]
    }
   ],
   "source": [
    "# GBM Classificação\n",
    "from sklearn.datasets import make_hastie_10_2\n",
    "from sklearn.ensemble import GradientBoostingClassifier\n",
    "from sklearn.model_selection import train_test_split\n",
    "from sklearn.metrics import accuracy_score\n",
    "\n",
    "# Generate data\n",
    "X, y = make_hastie_10_2(random_state=0)\n",
    "X_train, X_test, y_train, y_test = train_test_split(X, y, test_size=0.3)\n",
    "\n",
    "# Create and fit the model\n",
    "clf = GradientBoostingClassifier(n_estimators=100, learning_rate=1.0, max_depth=1, random_state=0)\n",
    "clf.fit(X_train, y_train)\n",
    "\n",
    "# Predict and evaluate\n",
    "y_pred = clf.predict(X_test)\n",
    "accuracy = accuracy_score(y_test, y_pred)\n",
    "print(f'Classification Accuracy: {accuracy:.2f}')\n"
   ],
   "metadata": {
    "collapsed": false,
    "ExecuteTime": {
     "end_time": "2023-12-18T20:34:27.330631200Z",
     "start_time": "2023-12-18T20:34:24.304102100Z"
    }
   },
   "id": "e5cba05cdce122ab"
  },
  {
   "cell_type": "code",
   "execution_count": 2,
   "outputs": [
    {
     "name": "stdout",
     "output_type": "stream",
     "text": [
      "Mean Squared Error: 5.12\n"
     ]
    }
   ],
   "source": [
    "# GBM Regressão\n",
    "import numpy as np\n",
    "from sklearn.metrics import mean_squared_error\n",
    "from sklearn.datasets import make_friedman1\n",
    "from sklearn.ensemble import GradientBoostingRegressor\n",
    "from sklearn.model_selection import train_test_split\n",
    "\n",
    "# Generate data\n",
    "X, y = make_friedman1(n_samples=1200, random_state=0, noise=1.0)\n",
    "X_train, X_test, y_train, y_test = train_test_split(X, y, test_size=0.3)\n",
    "\n",
    "# Create and fit the model\n",
    "est = GradientBoostingRegressor(n_estimators=100, learning_rate=0.1, max_depth=1, random_state=0, loss='squared_error')\n",
    "est.fit(X_train, y_train)\n",
    "\n",
    "# Predict and evaluate\n",
    "y_pred = est.predict(X_test)\n",
    "mse = mean_squared_error(y_test, y_pred)\n",
    "print(f'Mean Squared Error: {mse:.2f}')\n"
   ],
   "metadata": {
    "collapsed": false,
    "ExecuteTime": {
     "end_time": "2023-12-18T20:34:27.589852100Z",
     "start_time": "2023-12-18T20:34:27.327630800Z"
    }
   },
   "id": "b34bb1157299a091"
  },
  {
   "cell_type": "markdown",
   "source": [
    "## **Cite 5 Hyperparametros importantes no GBM**"
   ],
   "metadata": {
    "collapsed": false
   },
   "id": "96645e6357c4be22"
  },
  {
   "cell_type": "markdown",
   "source": [
    "**n_estimators:**\n",
    "\n",
    "Descrição: Representa o número de árvores de reforço a serem construídas. Em GBM, isso equivale ao número de iterações de reforço.\n",
    "Impacto: Um número maior de árvores pode melhorar a precisão do modelo, mas também pode levar a overfitting. Além disso, aumenta o tempo de treinamento e a complexidade do modelo.\n",
    "\n",
    "**learning_rate:**\n",
    "\n",
    "Descrição: Também conhecido como taxa de encolhimento, este parâmetro escala a contribuição de cada árvore. Se definido como um valor baixo, será necessário um número maior de árvores para construir um modelo de complexidade semelhante.\n",
    "Impacto: Valores menores de learning_rate são geralmente usados em conjunto com um maior número de árvores, o que pode levar a um modelo mais generalizado, mas também aumenta o tempo de treinamento.\n",
    "\n",
    "**max_depth:**\n",
    "\n",
    "Descrição: Define a profundidade máxima de cada árvore de decisão.\n",
    "Impacto: Árvores mais profundas podem capturar padrões mais complexos nos dados, mas também podem causar overfitting. Limitar a profundidade da árvore ajuda a prevenir overfitting e reduz a complexidade computacional.\n",
    "\n",
    "**min_samples_split:**\n",
    "\n",
    "Descrição: O número mínimo de amostras necessárias para dividir um nó interno.\n",
    "Impacto: Valores maiores previnem a criação de nós que representam padrões muito específicos, ajudando na generalização. Valores muito altos, no entanto, podem levar a um modelo subajustado.\n",
    "\n",
    "**subsample:**\n",
    "\n",
    "Descrição: A fração de amostras a serem usadas para ajustar cada árvore de decisão individual. Valores menores que 1.0 resultam em um procedimento de boosting estocástico.\n",
    "Impacto: Usar uma fração das amostras (menos de 1.0) pode levar a um modelo mais robusto e menos propenso a overfitting, mas também pode aumentar a variância do modelo."
   ],
   "metadata": {
    "collapsed": false
   },
   "id": "8293c8a817a23322"
  },
  {
   "cell_type": "markdown",
   "source": [
    "## **Utilize o GridSearch para encontrar os melhores hyperparametros para o conjunto de dados do exemplo**"
   ],
   "metadata": {
    "collapsed": false
   },
   "id": "7d02821494b5dfb"
  },
  {
   "cell_type": "code",
   "execution_count": 4,
   "outputs": [
    {
     "name": "stdout",
     "output_type": "stream",
     "text": [
      "Melhores hiperparâmetros: {'learning_rate': 0.2, 'max_depth': 4, 'min_samples_split': 4, 'n_estimators': 200, 'subsample': 0.8}\n",
      "Acurácia no conjunto de teste: 0.94\n"
     ]
    }
   ],
   "source": [
    "from sklearn.datasets import make_hastie_10_2\n",
    "from sklearn.model_selection import train_test_split, GridSearchCV\n",
    "from sklearn.ensemble import GradientBoostingClassifier\n",
    "\n",
    "# Gerar dados\n",
    "X, y = make_hastie_10_2(random_state=0)\n",
    "X_train, X_test, y_train, y_test = train_test_split(X, y, test_size=0.3)\n",
    "\n",
    "# Modelo base\n",
    "gbm = GradientBoostingClassifier()\n",
    "\n",
    "# Espaço de hiperparâmetros\n",
    "param_grid = {\n",
    "    'n_estimators': [100, 150, 200],\n",
    "    'learning_rate': [0.01, 0.1, 0.2],\n",
    "    'max_depth': [3, 4, 5],\n",
    "    'min_samples_split': [2, 4, 6],\n",
    "    'subsample': [0.8, 0.9, 1.0]\n",
    "}\n",
    "\n",
    "# Configurar GridSearchCV\n",
    "grid_search = GridSearchCV(estimator=gbm, param_grid=param_grid, cv=5, scoring='accuracy', n_jobs=-1)\n",
    "\n",
    "# Executar busca\n",
    "grid_search.fit(X_train, y_train)\n",
    "\n",
    "# Melhores hiperparâmetros\n",
    "best_params = grid_search.best_params_\n",
    "print(\"Melhores hiperparâmetros:\", best_params)\n",
    "\n",
    "# Avaliar no conjunto de teste\n",
    "best_model = grid_search.best_estimator_\n",
    "accuracy = best_model.score(X_test, y_test)\n",
    "print(f'Acurácia no conjunto de teste: {accuracy:.2f}')\n"
   ],
   "metadata": {
    "collapsed": false,
    "ExecuteTime": {
     "end_time": "2023-12-18T21:02:53.229551800Z",
     "start_time": "2023-12-18T20:46:39.270269800Z"
    }
   },
   "id": "c2835df159c1d7b1"
  }
 ],
 "metadata": {
  "kernelspec": {
   "display_name": "Python 3",
   "language": "python",
   "name": "python3"
  },
  "language_info": {
   "codemirror_mode": {
    "name": "ipython",
    "version": 2
   },
   "file_extension": ".py",
   "mimetype": "text/x-python",
   "name": "python",
   "nbconvert_exporter": "python",
   "pygments_lexer": "ipython2",
   "version": "2.7.6"
  }
 },
 "nbformat": 4,
 "nbformat_minor": 5
}
