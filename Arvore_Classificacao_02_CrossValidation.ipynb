{
 "cells": [
  {
   "attachments": {},
   "cell_type": "markdown",
   "metadata": {},
   "source": [
    "# Árvores II - Tarefa 2"
   ]
  },
  {
   "attachments": {},
   "cell_type": "markdown",
   "metadata": {},
   "source": [
    "### 1. Carregar as bases\n",
    "\n",
    "Vamos carregar as bases lidas na tarefa passada. Se você salvou essas bases em arquivo texto, basta fazer a leitura com o comando ```pd.read_csv``` das seguintes bases:\n",
    "\n",
    "- X_train\n",
    "- Y_train\n",
    "- X_test\n",
    "- Y_test\n",
    "\n",
    "Não se esqueça de considerar a leitura dos índices dos arquivos no ```read_csv()```!"
   ]
  },
  {
   "cell_type": "code",
   "execution_count": 1,
   "metadata": {},
   "outputs": [],
   "source": [
    "import pandas as pd\n",
    "import seaborn as sns\n",
    "import matplotlib.pyplot as plt\n",
    "import numpy as np\n",
    "from sklearn.tree import DecisionTreeClassifier\n",
    "from sklearn.model_selection import train_test_split\n",
    "from sklearn.metrics import confusion_matrix\n",
    "from sklearn.metrics import ConfusionMatrixDisplay\n",
    "# from sklearn.metrics import plot_confusion_matrix"
   ]
  },
  {
   "cell_type": "code",
   "execution_count": 2,
   "metadata": {},
   "outputs": [],
   "source": [
    "X_test = pd.read_csv('X_test.csv')\n",
    "X_test = X_test.set_index([X_test.index, 'subject'])\n",
    "\n",
    "X_train = pd.read_csv('X_train.csv')\n",
    "X_train = X_train.set_index([X_train.index, 'subject'])\n",
    "\n",
    "y_train = pd.read_csv(\"UCI_HAR_Dataset/train/y_train.txt\", header=None, lineterminator='\\n')\n",
    "y_test = pd.read_csv('UCI_HAR_Dataset/test/y_test.txt', header=None, lineterminator='\\n')"
   ]
  },
  {
   "attachments": {},
   "cell_type": "markdown",
   "metadata": {},
   "source": [
    "### 2. Divisão da base em Treino, Validação e Teste\n",
    "\n",
    "A base já se encontra dividida em Treino e Validação. O que vamos fazer então é extrair uma base de Validação da base de Treino.\n",
    "\n",
    "Extraia 25% da base de treino como base de validação."
   ]
  },
  {
   "cell_type": "code",
   "execution_count": 3,
   "metadata": {},
   "outputs": [],
   "source": [
    "X_train, X_valid, y_train, y_valid = train_test_split(X_train, y_train, test_size=.25, random_state=1729)"
   ]
  },
  {
   "attachments": {},
   "cell_type": "markdown",
   "metadata": {},
   "source": [
    "### 3. Melhores 3 variáveis\n",
    "\n",
    "Rode uma árvore com profundidade máxima igual a 4 para prever a atividade humana com todas as variáveis.\n",
    "Observe a importância das variáveis e considere as 3 variáveis com maior importância para os próximos passos.\n",
    "Dica: utilize o atributo ```clf.feature_importances_``` da árvore treinada."
   ]
  },
  {
   "cell_type": "code",
   "execution_count": 4,
   "metadata": {},
   "outputs": [
    {
     "name": "stdout",
     "output_type": "stream",
     "text": [
      "Melhores variáveis:\n",
      "1. variável 57 (0.280288)\n",
      "Variável:  tGravityAcc-energy()-X\n",
      "2. variável 272 (0.253431)\n",
      "Variável:  fBodyAcc-mad()-X\n",
      "3. variável 560 (0.172169)\n",
      "Variável:  angle(Y,gravityMean)\n"
     ]
    }
   ],
   "source": [
    "clf = DecisionTreeClassifier(max_depth=4, random_state=1729)\n",
    "clf.fit(X_train, y_train)\n",
    "importancia = clf.feature_importances_\n",
    "indices = np.argsort(importancia)[::-1]\n",
    "variaveis = X_train.columns\n",
    "\n",
    "print(\"Melhores variáveis:\")\n",
    "\n",
    "for f in range(3):\n",
    "    print(\"%d. variável %d (%f)\" % (f + 1, indices[f], importancia[indices[f]]))\n",
    "    print(\"Variável: \", variaveis[indices[f]])\n"
   ]
  },
  {
   "attachments": {},
   "cell_type": "markdown",
   "metadata": {},
   "source": [
    "### 4. Construa uma árvore com as 3 melhores variáveis\n",
    "\n",
    "Utilizando as três variáveis encontradas acima, construa uma árvore de decisão. Encontre o melhor ```ccp_alpha``` utilizando a base de validação, conforme a estrutura que vimos em aula."
   ]
  },
  {
   "cell_type": "code",
   "execution_count": 5,
   "metadata": {},
   "outputs": [
    {
     "name": "stdout",
     "output_type": "stream",
     "text": [
      "Best ccp_alpha:  0.0\n",
      "CPU times: total: 109 ms\n",
      "Wall time: 152 ms\n"
     ]
    }
   ],
   "source": [
    "%%time\n",
    "melhores_variaveis = ['tGravityAcc-energy()-X', 'fBodyAcc-mad()-X', 'angle(Y,gravityMean)']\n",
    "\n",
    "path = clf.cost_complexity_pruning_path(X_valid[melhores_variaveis], y_valid)\n",
    "ccp_alphas, impurities = path.ccp_alphas, path.impurities\n",
    "\n",
    "clfs = []\n",
    "for ccp_alpha in ccp_alphas:\n",
    "    clf = DecisionTreeClassifier(random_state=2023, ccp_alpha=ccp_alpha)\n",
    "    clf.fit(X_valid[melhores_variaveis], y_valid)\n",
    "    clfs.append(clf)\n",
    "\n",
    "best_alpha = ccp_alphas[np.argmin(impurities)]\n",
    "print(\"Best ccp_alpha: \", best_alpha)\n"
   ]
  },
  {
   "attachments": {},
   "cell_type": "markdown",
   "metadata": {},
   "source": [
    "### 5. Avaliação do modelo\n",
    "\n",
    "Avalie a árvore encontrada no item anterior na base de testes."
   ]
  },
  {
   "cell_type": "code",
   "execution_count": 6,
   "metadata": {},
   "outputs": [
    {
     "name": "stdout",
     "output_type": "stream",
     "text": [
      "              precision    recall  f1-score   support\n",
      "\n",
      "           1       0.50      0.47      0.48       496\n",
      "           2       0.54      0.61      0.57       471\n",
      "           3       0.68      0.63      0.65       420\n",
      "           4       0.73      0.70      0.72       491\n",
      "           5       0.74      0.76      0.75       532\n",
      "           6       1.00      1.00      1.00       537\n",
      "\n",
      "    accuracy                           0.70      2947\n",
      "   macro avg       0.70      0.70      0.70      2947\n",
      "weighted avg       0.70      0.70      0.70      2947\n",
      "\n"
     ]
    }
   ],
   "source": [
    "clf_best = DecisionTreeClassifier(random_state=2023, ccp_alpha=best_alpha)\n",
    "clf_best.fit(X_train[melhores_variaveis], y_train)\n",
    "y_pred = clf_best.predict(X_test[melhores_variaveis])\n",
    "\n",
    "from sklearn.metrics import classification_report\n",
    "print(classification_report(y_test, y_pred))\n"
   ]
  },
  {
   "cell_type": "code",
   "execution_count": 7,
   "metadata": {},
   "outputs": [
    {
     "data": {
      "text/plain": [
       "<sklearn.metrics._plot.confusion_matrix.ConfusionMatrixDisplay at 0x20961e2b950>"
      ]
     },
     "execution_count": 7,
     "metadata": {},
     "output_type": "execute_result"
    },
    {
     "data": {
      "image/png": "[encoded data removed]",
      "text/plain": [
       "<Figure size 640x480 with 2 Axes>"
      ]
     },
     "metadata": {},
     "output_type": "display_data"
    }
   ],
   "source": [
    "matrix = confusion_matrix(y_test, y_pred)\n",
    "ConfusionMatrixDisplay(matrix).plot()"
   ]
  }
 ],
 "metadata": {
  "kernelspec": {
   "display_name": "Python 3",
   "language": "python",
   "name": "python3"
  },
  "language_info": {
   "codemirror_mode": {
    "name": "ipython",
    "version": 3
   },
   "file_extension": ".py",
   "mimetype": "text/x-python",
   "name": "python",
   "nbconvert_exporter": "python",
   "pygments_lexer": "ipython3",
   "version": "3.11.4"
  }
 },
 "nbformat": 4,
 "nbformat_minor": 4
}
