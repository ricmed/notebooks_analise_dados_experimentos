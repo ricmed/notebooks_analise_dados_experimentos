{
 "cells": [
  {
   "cell_type": "markdown",
   "metadata": {},
   "source": [
    "Módulo 21 <br> Professor: Lucas Serra "
   ]
  },
  {
   "cell_type": "markdown",
   "metadata": {},
   "source": [
    "# Módulo 21 - Atividade 3"
   ]
  },
  {
   "cell_type": "markdown",
   "metadata": {},
   "source": [
    "### Calcule a média por nome e sobrenome do ator da seguintes variáveis:\n",
    "- rental_duration\n",
    "- rental_rate\n",
    "- length\n",
    "- replacement_cost"
   ]
  },
  {
   "cell_type": "code",
   "execution_count": 9,
   "outputs": [],
   "source": [
    "import pandas as pd\n",
    "import psycopg as pg"
   ],
   "metadata": {
    "collapsed": false,
    "ExecuteTime": {
     "end_time": "2023-12-01T21:15:32.873514800Z",
     "start_time": "2023-12-01T21:15:32.743783Z"
    }
   }
  },
  {
   "cell_type": "code",
   "execution_count": 10,
   "outputs": [],
   "source": [
    "def connect_to_postgres(dbname):\n",
    "    conn = None\n",
    "    try:\n",
    "        print('Conectando no PostgreSQL')\n",
    "        conn = pg.connect(host='localhost', \n",
    "                           port=5432, \n",
    "                           dbname=dbname, \n",
    "                           user='postgres',\n",
    "                           password='postgres')\n",
    "        print(\"Conectado!\")\n",
    "        \n",
    "    except Exception as e:\n",
    "        print(e)       \n",
    "        conn = None\n",
    "    return conn\n",
    "\n",
    "def get_results_postgres(conn, query, fetch = 'all'):\n",
    "    colnames = None\n",
    "    data = None\n",
    "    \n",
    "    try:\n",
    "        print('Cursor criado')\n",
    "        cur = conn.cursor()\n",
    "\n",
    "        print('Enviando query')\n",
    "        cur.execute(query)\n",
    "        print('Query executada')\n",
    "        conn.commit()\n",
    "\n",
    "        if fetch=='all':\n",
    "            data = cur.fetchall()\n",
    "        elif fetch=='many':\n",
    "            data = cur.fetchmany()\n",
    "        elif fetch=='one':\n",
    "            data = cur.fetchone()\n",
    "        else:\n",
    "            return None\n",
    "\n",
    "        colnames = [desc.name for desc in cur.description]\n",
    "        cur.close()\n",
    "        conn.close()\n",
    "    except Exception as e:\n",
    "        print(e)\n",
    "        cur.close()\n",
    "        conn.close()\n",
    "    return data, colnames\n",
    "\n",
    "def to_df(data, colnames):\n",
    "    print('Transformando em dataframe')\n",
    "    df = pd.DataFrame(data, columns=colnames)\n",
    "    print('DF OK')\n",
    "    return df"
   ],
   "metadata": {
    "collapsed": false,
    "ExecuteTime": {
     "end_time": "2023-12-01T21:15:32.964979800Z",
     "start_time": "2023-12-01T21:15:32.762331500Z"
    }
   }
  },
  {
   "cell_type": "code",
   "execution_count": 11,
   "outputs": [
    {
     "name": "stdout",
     "output_type": "stream",
     "text": [
      "Conectando no PostgreSQL\n",
      "Conectado!\n",
      "Cursor criado\n",
      "Enviando query\n",
      "Query executada\n",
      "Transformando em dataframe\n",
      "DF OK\n"
     ]
    },
    {
     "data": {
      "text/plain": "  first_name last_name rental_duration_mean\n0     Minnie    Kilmer   5.1500000000000000\n1      Renee      Ball   4.9696969696969697\n2      Thora    Temple   5.0000000000000000\n3       Burt   Dukakis   5.5862068965517241\n4       Liza   Bergman   5.4400000000000000",
      "text/html": "<div>\n<style scoped>\n    .dataframe tbody tr th:only-of-type {\n        vertical-align: middle;\n    }\n\n    .dataframe tbody tr th {\n        vertical-align: top;\n    }\n\n    .dataframe thead th {\n        text-align: right;\n    }\n</style>\n<table border=\"1\" class=\"dataframe\">\n  <thead>\n    <tr style=\"text-align: right;\">\n      <th></th>\n      <th>first_name</th>\n      <th>last_name</th>\n      <th>rental_duration_mean</th>\n    </tr>\n  </thead>\n  <tbody>\n    <tr>\n      <th>0</th>\n      <td>Minnie</td>\n      <td>Kilmer</td>\n      <td>5.1500000000000000</td>\n    </tr>\n    <tr>\n      <th>1</th>\n      <td>Renee</td>\n      <td>Ball</td>\n      <td>4.9696969696969697</td>\n    </tr>\n    <tr>\n      <th>2</th>\n      <td>Thora</td>\n      <td>Temple</td>\n      <td>5.0000000000000000</td>\n    </tr>\n    <tr>\n      <th>3</th>\n      <td>Burt</td>\n      <td>Dukakis</td>\n      <td>5.5862068965517241</td>\n    </tr>\n    <tr>\n      <th>4</th>\n      <td>Liza</td>\n      <td>Bergman</td>\n      <td>5.4400000000000000</td>\n    </tr>\n  </tbody>\n</table>\n</div>"
     },
     "execution_count": 11,
     "metadata": {},
     "output_type": "execute_result"
    }
   ],
   "source": [
    "# mean for first_name and last_name of the actor for rental_duration\n",
    "dbname = 'dvd'\n",
    "query = '''SELECT first_name, last_name, AVG(rental_duration) as rental_duration_mean\n",
    "            FROM actor as a\n",
    "                LEFT JOIN film_actor as b\n",
    "                    on a.actor_id = b.actor_id\n",
    "                LEFT JOIN film as c\n",
    "                    on b.film_id = c.film_id\n",
    "            GROUP BY first_name, last_name;'''\n",
    "\n",
    "conn = connect_to_postgres(dbname)\n",
    "\n",
    "data, colnames = get_results_postgres(conn, query, fetch = 'all')\n",
    "\n",
    "df_results = to_df(data, colnames)\n",
    "df_results.head()"
   ],
   "metadata": {
    "collapsed": false,
    "ExecuteTime": {
     "end_time": "2023-12-01T21:15:32.990005600Z",
     "start_time": "2023-12-01T21:15:32.772977700Z"
    }
   }
  },
  {
   "cell_type": "code",
   "execution_count": 12,
   "outputs": [
    {
     "name": "stdout",
     "output_type": "stream",
     "text": [
      "Conectando no PostgreSQL\n",
      "Conectado!\n",
      "Cursor criado\n",
      "Enviando query\n",
      "Query executada\n",
      "Transformando em dataframe\n",
      "DF OK\n"
     ]
    },
    {
     "data": {
      "text/plain": "  first_name last_name    rental_rate_mean\n0     Minnie    Kilmer  3.4900000000000000\n1      Renee      Ball  2.9293939393939394\n2      Thora    Temple  2.9900000000000000\n3       Burt   Dukakis  3.1968965517241379\n4       Liza   Bergman  3.5500000000000000",
      "text/html": "<div>\n<style scoped>\n    .dataframe tbody tr th:only-of-type {\n        vertical-align: middle;\n    }\n\n    .dataframe tbody tr th {\n        vertical-align: top;\n    }\n\n    .dataframe thead th {\n        text-align: right;\n    }\n</style>\n<table border=\"1\" class=\"dataframe\">\n  <thead>\n    <tr style=\"text-align: right;\">\n      <th></th>\n      <th>first_name</th>\n      <th>last_name</th>\n      <th>rental_rate_mean</th>\n    </tr>\n  </thead>\n  <tbody>\n    <tr>\n      <th>0</th>\n      <td>Minnie</td>\n      <td>Kilmer</td>\n      <td>3.4900000000000000</td>\n    </tr>\n    <tr>\n      <th>1</th>\n      <td>Renee</td>\n      <td>Ball</td>\n      <td>2.9293939393939394</td>\n    </tr>\n    <tr>\n      <th>2</th>\n      <td>Thora</td>\n      <td>Temple</td>\n      <td>2.9900000000000000</td>\n    </tr>\n    <tr>\n      <th>3</th>\n      <td>Burt</td>\n      <td>Dukakis</td>\n      <td>3.1968965517241379</td>\n    </tr>\n    <tr>\n      <th>4</th>\n      <td>Liza</td>\n      <td>Bergman</td>\n      <td>3.5500000000000000</td>\n    </tr>\n  </tbody>\n</table>\n</div>"
     },
     "execution_count": 12,
     "metadata": {},
     "output_type": "execute_result"
    }
   ],
   "source": [
    "# mean for first_name and last_name of the actor for rental_rate\n",
    "dbname = 'dvd'\n",
    "query = '''SELECT first_name, last_name, AVG(rental_rate) as rental_rate_mean\n",
    "            FROM actor as a\n",
    "                LEFT JOIN film_actor as b\n",
    "                    on a.actor_id = b.actor_id\n",
    "                LEFT JOIN film as c\n",
    "                    on b.film_id = c.film_id\n",
    "            GROUP BY first_name, last_name;'''\n",
    "\n",
    "conn = connect_to_postgres(dbname)\n",
    "\n",
    "data, colnames = get_results_postgres(conn, query, fetch = 'all')\n",
    "\n",
    "df_results = to_df(data, colnames)\n",
    "df_results.head()"
   ],
   "metadata": {
    "collapsed": false,
    "ExecuteTime": {
     "end_time": "2023-12-01T21:15:33.214483Z",
     "start_time": "2023-12-01T21:15:32.909985500Z"
    }
   }
  },
  {
   "cell_type": "code",
   "execution_count": 13,
   "outputs": [
    {
     "name": "stdout",
     "output_type": "stream",
     "text": [
      "Conectando no PostgreSQL\n",
      "Conectado!\n",
      "Cursor criado\n",
      "Enviando query\n",
      "Query executada\n",
      "Transformando em dataframe\n",
      "DF OK\n"
     ]
    },
    {
     "data": {
      "text/plain": "  first_name last_name           length_mean\n0     Minnie    Kilmer  111.5000000000000000\n1      Renee      Ball  104.3636363636363636\n2      Thora    Temple  128.4000000000000000\n3       Burt   Dukakis  118.7931034482758621\n4       Liza   Bergman  112.3200000000000000",
      "text/html": "<div>\n<style scoped>\n    .dataframe tbody tr th:only-of-type {\n        vertical-align: middle;\n    }\n\n    .dataframe tbody tr th {\n        vertical-align: top;\n    }\n\n    .dataframe thead th {\n        text-align: right;\n    }\n</style>\n<table border=\"1\" class=\"dataframe\">\n  <thead>\n    <tr style=\"text-align: right;\">\n      <th></th>\n      <th>first_name</th>\n      <th>last_name</th>\n      <th>length_mean</th>\n    </tr>\n  </thead>\n  <tbody>\n    <tr>\n      <th>0</th>\n      <td>Minnie</td>\n      <td>Kilmer</td>\n      <td>111.5000000000000000</td>\n    </tr>\n    <tr>\n      <th>1</th>\n      <td>Renee</td>\n      <td>Ball</td>\n      <td>104.3636363636363636</td>\n    </tr>\n    <tr>\n      <th>2</th>\n      <td>Thora</td>\n      <td>Temple</td>\n      <td>128.4000000000000000</td>\n    </tr>\n    <tr>\n      <th>3</th>\n      <td>Burt</td>\n      <td>Dukakis</td>\n      <td>118.7931034482758621</td>\n    </tr>\n    <tr>\n      <th>4</th>\n      <td>Liza</td>\n      <td>Bergman</td>\n      <td>112.3200000000000000</td>\n    </tr>\n  </tbody>\n</table>\n</div>"
     },
     "execution_count": 13,
     "metadata": {},
     "output_type": "execute_result"
    }
   ],
   "source": [
    "# mean for first_name and last_name of the actor for length\n",
    "dbname = 'dvd'\n",
    "query = '''SELECT first_name, last_name, AVG(length) as length_mean\n",
    "            FROM actor as a\n",
    "                LEFT JOIN film_actor as b\n",
    "                    on a.actor_id = b.actor_id\n",
    "                LEFT JOIN film as c\n",
    "                    on b.film_id = c.film_id\n",
    "            GROUP BY first_name, last_name;'''\n",
    "\n",
    "conn = connect_to_postgres(dbname)\n",
    "\n",
    "data, colnames = get_results_postgres(conn, query, fetch = 'all')\n",
    "\n",
    "df_results = to_df(data, colnames)\n",
    "df_results.head()"
   ],
   "metadata": {
    "collapsed": false,
    "ExecuteTime": {
     "end_time": "2023-12-01T21:15:33.283493800Z",
     "start_time": "2023-12-01T21:15:33.054514500Z"
    }
   }
  },
  {
   "cell_type": "code",
   "execution_count": 14,
   "outputs": [
    {
     "name": "stdout",
     "output_type": "stream",
     "text": [
      "Conectando no PostgreSQL\n",
      "Conectado!\n",
      "Cursor criado\n",
      "Enviando query\n",
      "Query executada\n",
      "Transformando em dataframe\n",
      "DF OK\n"
     ]
    },
    {
     "data": {
      "text/plain": "  first_name last_name replacement_cost_mean\n0     Minnie    Kilmer   20.2400000000000000\n1      Renee      Ball   20.9900000000000000\n2      Thora    Temple   19.2900000000000000\n3       Burt   Dukakis   20.1279310344827586\n4       Liza   Bergman   20.0300000000000000",
      "text/html": "<div>\n<style scoped>\n    .dataframe tbody tr th:only-of-type {\n        vertical-align: middle;\n    }\n\n    .dataframe tbody tr th {\n        vertical-align: top;\n    }\n\n    .dataframe thead th {\n        text-align: right;\n    }\n</style>\n<table border=\"1\" class=\"dataframe\">\n  <thead>\n    <tr style=\"text-align: right;\">\n      <th></th>\n      <th>first_name</th>\n      <th>last_name</th>\n      <th>replacement_cost_mean</th>\n    </tr>\n  </thead>\n  <tbody>\n    <tr>\n      <th>0</th>\n      <td>Minnie</td>\n      <td>Kilmer</td>\n      <td>20.2400000000000000</td>\n    </tr>\n    <tr>\n      <th>1</th>\n      <td>Renee</td>\n      <td>Ball</td>\n      <td>20.9900000000000000</td>\n    </tr>\n    <tr>\n      <th>2</th>\n      <td>Thora</td>\n      <td>Temple</td>\n      <td>19.2900000000000000</td>\n    </tr>\n    <tr>\n      <th>3</th>\n      <td>Burt</td>\n      <td>Dukakis</td>\n      <td>20.1279310344827586</td>\n    </tr>\n    <tr>\n      <th>4</th>\n      <td>Liza</td>\n      <td>Bergman</td>\n      <td>20.0300000000000000</td>\n    </tr>\n  </tbody>\n</table>\n</div>"
     },
     "execution_count": 14,
     "metadata": {},
     "output_type": "execute_result"
    }
   ],
   "source": [
    "# mean for first_name and last_name of the actor for replacement_cost\n",
    "dbname = 'dvd'\n",
    "query = '''SELECT first_name, last_name, AVG(replacement_cost) as replacement_cost_mean\n",
    "            FROM actor as a\n",
    "                LEFT JOIN film_actor as b\n",
    "                    on a.actor_id = b.actor_id\n",
    "                LEFT JOIN film as c\n",
    "                    on b.film_id = c.film_id\n",
    "            GROUP BY first_name, last_name;'''\n",
    "\n",
    "conn = connect_to_postgres(dbname)\n",
    "\n",
    "data, colnames = get_results_postgres(conn, query, fetch = 'all')\n",
    "\n",
    "df_results = to_df(data, colnames)\n",
    "df_results.head()"
   ],
   "metadata": {
    "collapsed": false,
    "ExecuteTime": {
     "end_time": "2023-12-01T21:15:33.542635400Z",
     "start_time": "2023-12-01T21:15:33.180964Z"
    }
   }
  },
  {
   "cell_type": "markdown",
   "metadata": {},
   "source": [
    "### Calcule a soma de amount (preço total do aluguel) por nome, sobrenome e email do cliente (customer) e indique os 10 clientes que mais gastaram e os 10 que menos gastaram.\n"
   ]
  },
  {
   "cell_type": "code",
   "execution_count": 17,
   "metadata": {
    "ExecuteTime": {
     "end_time": "2023-12-01T21:20:14.929102Z",
     "start_time": "2023-12-01T21:20:14.636218800Z"
    }
   },
   "outputs": [
    {
     "name": "stdout",
     "output_type": "stream",
     "text": [
      "Conectando no PostgreSQL\n",
      "Conectado!\n",
      "Cursor criado\n",
      "Enviando query\n",
      "Query executada\n",
      "Conectando no PostgreSQL\n",
      "Conectado!\n",
      "Cursor criado\n",
      "Enviando query\n",
      "Query executada\n",
      "Transformando em dataframe\n",
      "DF OK\n",
      "Transformando em dataframe\n",
      "DF OK\n"
     ]
    }
   ],
   "source": [
    "# Sum of amount by first_name, last_name and email of the customer, indicating the 10 customers who spent the most and the 10 who spent the least\n",
    "dbname = 'dvd'\n",
    "query = '''SELECT first_name, last_name, email, SUM(amount) as amount_sum\n",
    "            FROM customer as a\n",
    "                LEFT JOIN payment as b\n",
    "                    on a.customer_id = b.customer_id\n",
    "            GROUP BY first_name, last_name, email\n",
    "            ORDER BY amount_sum DESC\n",
    "            LIMIT 10;'''\n",
    "\n",
    "query2 = '''SELECT first_name, last_name, email, SUM(amount) as amount_sum\n",
    "            FROM customer as a\n",
    "                LEFT JOIN payment as b\n",
    "                    on a.customer_id = b.customer_id\n",
    "            GROUP BY first_name, last_name, email\n",
    "            ORDER BY amount_sum ASC\n",
    "            LIMIT 10;'''\n",
    "\n",
    "conn = connect_to_postgres(dbname)\n",
    "data, colnames = get_results_postgres(conn, query, fetch = 'all')\n",
    "\n",
    "conn = connect_to_postgres(dbname)\n",
    "data2, colnames2 = get_results_postgres(conn, query2, fetch = 'all')\n",
    "\n",
    "df_results = to_df(data, colnames)\n",
    "df_results2 = to_df(data2, colnames2)"
   ]
  },
  {
   "cell_type": "code",
   "execution_count": 18,
   "metadata": {
    "ExecuteTime": {
     "end_time": "2023-12-01T21:20:18.146571200Z",
     "start_time": "2023-12-01T21:20:18.140023400Z"
    }
   },
   "outputs": [
    {
     "data": {
      "text/plain": "  first_name last_name                              email amount_sum\n0    Eleanor      Hunt    eleanor.hunt@sakilacustomer.org     211.55\n1       Karl      Seal       karl.seal@sakilacustomer.org     208.58\n2     Marion    Snyder   marion.snyder@sakilacustomer.org     194.61\n3     Rhonda   Kennedy  rhonda.kennedy@sakilacustomer.org     191.62\n4      Clara      Shaw      clara.shaw@sakilacustomer.org     189.60",
      "text/html": "<div>\n<style scoped>\n    .dataframe tbody tr th:only-of-type {\n        vertical-align: middle;\n    }\n\n    .dataframe tbody tr th {\n        vertical-align: top;\n    }\n\n    .dataframe thead th {\n        text-align: right;\n    }\n</style>\n<table border=\"1\" class=\"dataframe\">\n  <thead>\n    <tr style=\"text-align: right;\">\n      <th></th>\n      <th>first_name</th>\n      <th>last_name</th>\n      <th>email</th>\n      <th>amount_sum</th>\n    </tr>\n  </thead>\n  <tbody>\n    <tr>\n      <th>0</th>\n      <td>Eleanor</td>\n      <td>Hunt</td>\n      <td>eleanor.hunt@sakilacustomer.org</td>\n      <td>211.55</td>\n    </tr>\n    <tr>\n      <th>1</th>\n      <td>Karl</td>\n      <td>Seal</td>\n      <td>karl.seal@sakilacustomer.org</td>\n      <td>208.58</td>\n    </tr>\n    <tr>\n      <th>2</th>\n      <td>Marion</td>\n      <td>Snyder</td>\n      <td>marion.snyder@sakilacustomer.org</td>\n      <td>194.61</td>\n    </tr>\n    <tr>\n      <th>3</th>\n      <td>Rhonda</td>\n      <td>Kennedy</td>\n      <td>rhonda.kennedy@sakilacustomer.org</td>\n      <td>191.62</td>\n    </tr>\n    <tr>\n      <th>4</th>\n      <td>Clara</td>\n      <td>Shaw</td>\n      <td>clara.shaw@sakilacustomer.org</td>\n      <td>189.60</td>\n    </tr>\n  </tbody>\n</table>\n</div>"
     },
     "execution_count": 18,
     "metadata": {},
     "output_type": "execute_result"
    }
   ],
   "source": [
    "df_results.head()"
   ]
  },
  {
   "cell_type": "code",
   "execution_count": 19,
   "metadata": {
    "ExecuteTime": {
     "end_time": "2023-12-01T21:20:20.611284Z",
     "start_time": "2023-12-01T21:20:20.603440100Z"
    }
   },
   "outputs": [
    {
     "data": {
      "text/plain": "  first_name last_name                               email amount_sum\n0      Brian     Wyman      brian.wyman@sakilacustomer.org      27.93\n1      Leona    Obrien     leona.obrien@sakilacustomer.org      32.90\n2   Caroline    Bowman  caroline.bowman@sakilacustomer.org      37.87\n3    Anthony    Schwab   anthony.schwab@sakilacustomer.org      47.85\n4    Tiffany    Jordan   tiffany.jordan@sakilacustomer.org      49.88",
      "text/html": "<div>\n<style scoped>\n    .dataframe tbody tr th:only-of-type {\n        vertical-align: middle;\n    }\n\n    .dataframe tbody tr th {\n        vertical-align: top;\n    }\n\n    .dataframe thead th {\n        text-align: right;\n    }\n</style>\n<table border=\"1\" class=\"dataframe\">\n  <thead>\n    <tr style=\"text-align: right;\">\n      <th></th>\n      <th>first_name</th>\n      <th>last_name</th>\n      <th>email</th>\n      <th>amount_sum</th>\n    </tr>\n  </thead>\n  <tbody>\n    <tr>\n      <th>0</th>\n      <td>Brian</td>\n      <td>Wyman</td>\n      <td>brian.wyman@sakilacustomer.org</td>\n      <td>27.93</td>\n    </tr>\n    <tr>\n      <th>1</th>\n      <td>Leona</td>\n      <td>Obrien</td>\n      <td>leona.obrien@sakilacustomer.org</td>\n      <td>32.90</td>\n    </tr>\n    <tr>\n      <th>2</th>\n      <td>Caroline</td>\n      <td>Bowman</td>\n      <td>caroline.bowman@sakilacustomer.org</td>\n      <td>37.87</td>\n    </tr>\n    <tr>\n      <th>3</th>\n      <td>Anthony</td>\n      <td>Schwab</td>\n      <td>anthony.schwab@sakilacustomer.org</td>\n      <td>47.85</td>\n    </tr>\n    <tr>\n      <th>4</th>\n      <td>Tiffany</td>\n      <td>Jordan</td>\n      <td>tiffany.jordan@sakilacustomer.org</td>\n      <td>49.88</td>\n    </tr>\n  </tbody>\n</table>\n</div>"
     },
     "execution_count": 19,
     "metadata": {},
     "output_type": "execute_result"
    }
   ],
   "source": [
    "df_results2.head()"
   ]
  }
 ],
 "metadata": {
  "kernelspec": {
   "display_name": "Python 3",
   "language": "python",
   "name": "python3"
  },
  "language_info": {
   "codemirror_mode": {
    "name": "ipython",
    "version": 3
   },
   "file_extension": ".py",
   "mimetype": "text/x-python",
   "name": "python",
   "nbconvert_exporter": "python",
   "pygments_lexer": "ipython3",
   "version": "3.8.5"
  },
  "varInspector": {
   "cols": {
    "lenName": 16,
    "lenType": 16,
    "lenVar": 40
   },
   "kernels_config": {
    "python": {
     "delete_cmd_postfix": "",
     "delete_cmd_prefix": "del ",
     "library": "var_list.py",
     "varRefreshCmd": "print(var_dic_list())"
    },
    "r": {
     "delete_cmd_postfix": ") ",
     "delete_cmd_prefix": "rm(",
     "library": "var_list.r",
     "varRefreshCmd": "cat(var_dic_list()) "
    }
   },
   "types_to_exclude": [
    "module",
    "function",
    "builtin_function_or_method",
    "instance",
    "_Feature"
   ],
   "window_display": false
  }
 },
 "nbformat": 4,
 "nbformat_minor": 4
}
