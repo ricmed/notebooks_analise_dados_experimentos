{
 "cells": [
  {
   "cell_type": "markdown",
   "metadata": {},
   "source": [
    "# PCA - Tarefa 01: *HAR* com PCA\n",
    "\n",
    "Vamos trabalhar com a base da demonstração feita em aula, mas vamos explorar um pouco melhor como é o desempenho da árvore variando o número de componentes principais."
   ]
  },
  {
   "cell_type": "code",
   "execution_count": 2,
   "outputs": [],
   "source": [
    "import pandas as pd\n",
    "import time\n",
    "\n",
    "from sklearn.tree import DecisionTreeClassifier\n",
    "from sklearn.decomposition import PCA\n",
    "from sklearn.pipeline import Pipeline\n",
    "from sklearn.metrics import accuracy_score\n",
    "from sklearn.model_selection import cross_val_score\n",
    "from sklearn.model_selection import GridSearchCV"
   ],
   "metadata": {
    "collapsed": false,
    "ExecuteTime": {
     "end_time": "2023-12-21T17:26:07.992400800Z",
     "start_time": "2023-12-21T17:26:07.473118800Z"
    }
   }
  },
  {
   "cell_type": "code",
   "execution_count": 3,
   "metadata": {
    "ExecuteTime": {
     "end_time": "2023-12-21T17:26:12.493466400Z",
     "start_time": "2023-12-21T17:26:07.994405800Z"
    }
   },
   "outputs": [
    {
     "name": "stderr",
     "output_type": "stream",
     "text": [
      "C:\\Users\\ricme\\AppData\\Local\\Temp\\ipykernel_24032\\3738210203.py:12: FutureWarning: The squeeze argument has been deprecated and will be removed in a future version. Append .squeeze(\"columns\") to the call to squeeze.\n",
      "\n",
      "\n",
      "  features = pd.read_csv(filename_features, header=None, names=['nome_var'], squeeze=True, sep=\"#\")\n",
      "C:\\Users\\ricme\\AppData\\Local\\Temp\\ipykernel_24032\\3738210203.py:15: FutureWarning: The squeeze argument has been deprecated and will be removed in a future version. Append .squeeze(\"columns\") to the call to squeeze.\n",
      "\n",
      "\n",
      "  subject_train = pd.read_csv(filename_subtrain, header=None, names=['subject_id'], squeeze=True)\n",
      "C:\\Users\\ricme\\AppData\\Local\\Temp\\ipykernel_24032\\3738210203.py:19: FutureWarning: The squeeze argument has been deprecated and will be removed in a future version. Append .squeeze(\"columns\") to the call to squeeze.\n",
      "\n",
      "\n",
      "  subject_test = pd.read_csv(filename_subtest, header=None, names=['subject_id'], squeeze=True)\n"
     ]
    }
   ],
   "source": [
    "\n",
    "filename_features = \"Dados/features.txt\"\n",
    "filename_labels = \"Dados/activity_labels.txt\"\n",
    "\n",
    "filename_subtrain = \"Dados/train/subject_train.txt\"\n",
    "filename_xtrain = \"Dados/train/X_train.txt\"\n",
    "filename_ytrain = \"Dados/train/y_train.txt\"\n",
    "\n",
    "filename_subtest = \"Dados/test/subject_test.txt\"\n",
    "ffilename_xtest = \"Dados/test/X_test.txt\"\n",
    "filename_ytest = \"Dados/test/y_test.txt\"\n",
    "\n",
    "features = pd.read_csv(filename_features, header=None, names=['nome_var'], squeeze=True, sep=\"#\")\n",
    "labels = pd.read_csv(filename_labels, delim_whitespace=True, header=None, names=['cod_label', 'label'])\n",
    "\n",
    "subject_train = pd.read_csv(filename_subtrain, header=None, names=['subject_id'], squeeze=True)\n",
    "X_train = pd.read_csv(filename_xtrain, delim_whitespace=True, header=None, names=features.tolist())\n",
    "y_train = pd.read_csv(filename_ytrain, header=None, names=['cod_label'])\n",
    "\n",
    "subject_test = pd.read_csv(filename_subtest, header=None, names=['subject_id'], squeeze=True)\n",
    "X_test = pd.read_csv(ffilename_xtest, delim_whitespace=True, header=None, names=features.tolist())\n",
    "y_test = pd.read_csv(filename_ytest, header=None, names=['cod_label'])"
   ]
  },
  {
   "cell_type": "markdown",
   "metadata": {},
   "source": [
    "## Árvore de decisão\n",
    "\n",
    "Rode uma árvore de decisão com todas as variáveis, utilizando o ```ccp_alpha=0.001```. Avalie a acurácia nas bases de treinamento e teste. Avalie o tempo de processamento."
   ]
  },
  {
   "cell_type": "code",
   "execution_count": 4,
   "outputs": [
    {
     "name": "stdout",
     "output_type": "stream",
     "text": [
      "CPU times: total: 3.38 s\n",
      "Wall time: 4.62 s\n"
     ]
    },
    {
     "data": {
      "text/plain": "(0.9757889009793254, 0.8812351543942993)"
     },
     "execution_count": 4,
     "metadata": {},
     "output_type": "execute_result"
    }
   ],
   "source": [
    "%%time\n",
    "\n",
    "# Inicializar o classificador de árvore de decisão com ccp_alpha=0.001\n",
    "dt_classifier = DecisionTreeClassifier(ccp_alpha=0.001)\n",
    "\n",
    "dt_classifier.fit(X_train, y_train.values.ravel())\n",
    "\n",
    "# Previsões na base de treino\n",
    "train_predictions = dt_classifier.predict(X_train)\n",
    "train_accuracy = accuracy_score(y_train, train_predictions)\n",
    "\n",
    "# Previsões na base de teste\n",
    "test_predictions = dt_classifier.predict(X_test)\n",
    "test_accuracy = accuracy_score(y_test, test_predictions)\n",
    "\n",
    "train_accuracy, test_accuracy"
   ],
   "metadata": {
    "collapsed": false,
    "ExecuteTime": {
     "end_time": "2023-12-21T17:26:17.134103900Z",
     "start_time": "2023-12-21T17:26:12.494464400Z"
    }
   }
  },
  {
   "cell_type": "markdown",
   "source": [
    "- Tivemos uma boa acurácia na base de treino, mas uma acurácia mais baixa na base de teste. Isso já era esperado.\n",
    "- O tempo de processamento foi de aproximadamente 3 segundosb.\n",
    "- Verificar a possibilidade do modelo está sobfrendo overfitting."
   ],
   "metadata": {
    "collapsed": false
   }
  },
  {
   "cell_type": "markdown",
   "metadata": {},
   "source": [
    "## Árvore com PCA\n",
    "\n",
    "Faça uma análise de componemtes principais das variáveis originais. Utilize apenas uma componente. Faça uma árvore de decisão com esta componente como variável explicativa.\n",
    "\n",
    "- Avalie a acurácia nas bases de treinamento e teste\n",
    "- Avalie o tempo de processamento"
   ]
  },
  {
   "cell_type": "code",
   "execution_count": 5,
   "metadata": {
    "ExecuteTime": {
     "end_time": "2023-12-21T17:26:17.544991600Z",
     "start_time": "2023-12-21T17:26:17.133106800Z"
    }
   },
   "outputs": [
    {
     "name": "stdout",
     "output_type": "stream",
     "text": [
      "CPU times: total: 875 ms\n",
      "Wall time: 398 ms\n"
     ]
    },
    {
     "data": {
      "text/plain": "(0.499727965179543, 0.45707499151679676)"
     },
     "execution_count": 5,
     "metadata": {},
     "output_type": "execute_result"
    }
   ],
   "source": [
    "%%time\n",
    "# Aplicar PCA para extrair apenas a primeira componente principal\n",
    "pca_1 = PCA(n_components=1)\n",
    "\n",
    "x_train_pca_1 = pca_1.fit_transform(X_train)  # Aplicando PCA ao conjunto de treino \n",
    "x_test_pca_1 = pca_1.transform(X_test)        # Aplicando PCA ao conjunto de teste \n",
    "\n",
    "# Treinar a árvore de decisão com a primeira componente principal\n",
    "dt_classifier_pca = DecisionTreeClassifier(ccp_alpha=0.001)\n",
    "\n",
    "\n",
    "dt_classifier_pca.fit(x_train_pca_1, y_train.values.ravel())\n",
    "\n",
    "# Previsões na base de treino\n",
    "train_predictions_pca = dt_classifier_pca.predict(x_train_pca_1)\n",
    "train_accuracy_pca = accuracy_score(y_train, train_predictions_pca)\n",
    "\n",
    "# Previsões na base de teste\n",
    "test_predictions_pca = dt_classifier_pca.predict(x_test_pca_1)\n",
    "test_accuracy_pca = accuracy_score(y_test, test_predictions_pca)\n",
    "\n",
    "train_accuracy_pca, test_accuracy_pca"
   ]
  },
  {
   "cell_type": "markdown",
   "source": [
    "- O tempo de processamento foi de aproximadamente 0.5 segundos, bem menor que o tempo da árvore sem PCA.\n",
    "- Porém, como utilizamos somente 1 componente principal, a acurácia foi bem menor que a árvore sem PCA.\n"
   ],
   "metadata": {
    "collapsed": false
   }
  },
  {
   "cell_type": "markdown",
   "metadata": {},
   "source": [
    "## Testando o número de componentes\n",
    "\n",
    "Com base no código acima, teste a árvore de classificação com pelo menos as seguintes possibilidades de quantidades de componentes: ```[1, 2, 5, 10, 50]```. Avalie para cada uma delas:\n",
    "\n",
    "- Acurácia nas bases de treino e teste\n",
    "- Tempo de processamento\n"
   ]
  },
  {
   "cell_type": "code",
   "execution_count": 6,
   "metadata": {
    "ExecuteTime": {
     "end_time": "2023-12-21T17:26:20.962560300Z",
     "start_time": "2023-12-21T17:26:17.557997100Z"
    }
   },
   "outputs": [
    {
     "name": "stdout",
     "output_type": "stream",
     "text": [
      "CPU times: total: 5.7 s\n",
      "Wall time: 3.4 s\n"
     ]
    },
    {
     "data": {
      "text/plain": "   n_components  training_time  train_accuracy  test_accuracy\n0             1       0.045986        0.499728       0.457075\n1             2       0.040001        0.612758       0.584662\n2             5       0.048996        0.846028       0.788938\n3            10       0.099998        0.891866       0.814388\n4            50       0.533997        0.918118       0.830675\n5           100       1.014000        0.927911       0.827621",
      "text/html": "<div>\n<style scoped>\n    .dataframe tbody tr th:only-of-type {\n        vertical-align: middle;\n    }\n\n    .dataframe tbody tr th {\n        vertical-align: top;\n    }\n\n    .dataframe thead th {\n        text-align: right;\n    }\n</style>\n<table border=\"1\" class=\"dataframe\">\n  <thead>\n    <tr style=\"text-align: right;\">\n      <th></th>\n      <th>n_components</th>\n      <th>training_time</th>\n      <th>train_accuracy</th>\n      <th>test_accuracy</th>\n    </tr>\n  </thead>\n  <tbody>\n    <tr>\n      <th>0</th>\n      <td>1</td>\n      <td>0.045986</td>\n      <td>0.499728</td>\n      <td>0.457075</td>\n    </tr>\n    <tr>\n      <th>1</th>\n      <td>2</td>\n      <td>0.040001</td>\n      <td>0.612758</td>\n      <td>0.584662</td>\n    </tr>\n    <tr>\n      <th>2</th>\n      <td>5</td>\n      <td>0.048996</td>\n      <td>0.846028</td>\n      <td>0.788938</td>\n    </tr>\n    <tr>\n      <th>3</th>\n      <td>10</td>\n      <td>0.099998</td>\n      <td>0.891866</td>\n      <td>0.814388</td>\n    </tr>\n    <tr>\n      <th>4</th>\n      <td>50</td>\n      <td>0.533997</td>\n      <td>0.918118</td>\n      <td>0.830675</td>\n    </tr>\n    <tr>\n      <th>5</th>\n      <td>100</td>\n      <td>1.014000</td>\n      <td>0.927911</td>\n      <td>0.827621</td>\n    </tr>\n  </tbody>\n</table>\n</div>"
     },
     "execution_count": 6,
     "metadata": {},
     "output_type": "execute_result"
    }
   ],
   "source": [
    "%%time\n",
    "# Números de componentes a serem testados. Acrescentei mais um número de componentes para testar.\n",
    "component_numbers = [1, 2, 5, 10, 50, 100]\n",
    "\n",
    "# Inicializar listas para armazenar os resultados\n",
    "results = []\n",
    "\n",
    "# Loop para testar cada número de componentes\n",
    "for n_components in component_numbers:\n",
    "    # Aplicar PCA\n",
    "    pca_n = PCA(n_components=n_components)\n",
    "    x_train_pca_n = pca_n.fit_transform(X_train)\n",
    "    x_test_pca_n = pca_n.transform(X_test)\n",
    "\n",
    "    # Treinar a árvore de decisão\n",
    "    dt_classifier_pca_n = DecisionTreeClassifier(ccp_alpha=0.001)\n",
    "    start_time_pca_n = time.time()\n",
    "    dt_classifier_pca_n.fit(x_train_pca_n, y_train.values.ravel())\n",
    "    training_time_pca_n = time.time() - start_time_pca_n\n",
    "\n",
    "    # Avaliar acurácia\n",
    "    train_accuracy_pca_n = accuracy_score(y_train, dt_classifier_pca_n.predict(x_train_pca_n))\n",
    "    test_accuracy_pca_n = accuracy_score(y_test, dt_classifier_pca_n.predict(x_test_pca_n))\n",
    "\n",
    "    # Adicionar resultados à lista\n",
    "    results.append({\n",
    "        \"n_components\": n_components,\n",
    "        \"training_time\": training_time_pca_n,\n",
    "        \"train_accuracy\": train_accuracy_pca_n,\n",
    "        \"test_accuracy\": test_accuracy_pca_n\n",
    "    })\n",
    "\n",
    "# Converter resultados para um DataFrame para melhor visualização\n",
    "results_df = pd.DataFrame(results)\n",
    "results_df"
   ]
  },
  {
   "cell_type": "markdown",
   "source": [
    "- O tempo de processamento foi aumentando conforme aumentamos o número de componentes.\n",
    "- A acurácia foi aumentando conforme aumentamos o número de componentes.\n",
    "- A acurácia na base de treino foi aumentando conforme aumentamos o número de componentes, mas a acurácia na base de teste foi aumentando significativamente até 10 componentes e depois estabilizou."
   ],
   "metadata": {
    "collapsed": false
   }
  },
  {
   "cell_type": "markdown",
   "metadata": {},
   "source": [
    "## Conclua\n",
    "\n",
    "- O que aconteceu com a acurácia?\n",
    "  - Foi gradativamente aumentando conforme aumentamos o número de componentes\n",
    "\n",
    "- O que aconteceu com o tempo de processamento?\n",
    "    - Também foi gradativamente aumentando conforme aumentamos o número de componentes"
   ]
  },
  {
   "cell_type": "markdown",
   "source": [
    "### BÔNUS: Teste o número de componentes com validação cruzada"
   ],
   "metadata": {
    "collapsed": false
   }
  },
  {
   "cell_type": "code",
   "execution_count": 7,
   "outputs": [
    {
     "name": "stdout",
     "output_type": "stream",
     "text": [
      "CPU times: total: 8.62 s\n",
      "Wall time: 8.27 s\n"
     ]
    },
    {
     "data": {
      "text/plain": "   n_components  cv_mean_accuracy\n0             1          0.475111\n1             2          0.573726\n2             5          0.754089\n3            10          0.793123\n4            50          0.782244\n5           100          0.786870",
      "text/html": "<div>\n<style scoped>\n    .dataframe tbody tr th:only-of-type {\n        vertical-align: middle;\n    }\n\n    .dataframe tbody tr th {\n        vertical-align: top;\n    }\n\n    .dataframe thead th {\n        text-align: right;\n    }\n</style>\n<table border=\"1\" class=\"dataframe\">\n  <thead>\n    <tr style=\"text-align: right;\">\n      <th></th>\n      <th>n_components</th>\n      <th>cv_mean_accuracy</th>\n    </tr>\n  </thead>\n  <tbody>\n    <tr>\n      <th>0</th>\n      <td>1</td>\n      <td>0.475111</td>\n    </tr>\n    <tr>\n      <th>1</th>\n      <td>2</td>\n      <td>0.573726</td>\n    </tr>\n    <tr>\n      <th>2</th>\n      <td>5</td>\n      <td>0.754089</td>\n    </tr>\n    <tr>\n      <th>3</th>\n      <td>10</td>\n      <td>0.793123</td>\n    </tr>\n    <tr>\n      <th>4</th>\n      <td>50</td>\n      <td>0.782244</td>\n    </tr>\n    <tr>\n      <th>5</th>\n      <td>100</td>\n      <td>0.786870</td>\n    </tr>\n  </tbody>\n</table>\n</div>"
     },
     "execution_count": 7,
     "metadata": {},
     "output_type": "execute_result"
    }
   ],
   "source": [
    "%%time\n",
    "\n",
    "# Inicializar lista para armazenar os resultados da validação cruzada\n",
    "cv_results = []\n",
    "component_numbers = [1, 2, 5, 10, 50, 100]\n",
    "\n",
    "\n",
    "# Loop para aplicar validação cruzada com diferentes números de componentes principais\n",
    "for n_components in component_numbers:\n",
    "    # Aplicar PCA\n",
    "    pca_n_cv = PCA(n_components=n_components)\n",
    "    x_train_pca_n_cv = pca_n_cv.fit_transform(X_train)\n",
    "\n",
    "    # Inicializar a árvore de decisão\n",
    "    dt_classifier_pca_cv = DecisionTreeClassifier(ccp_alpha=0.001)\n",
    "\n",
    "    # Realizar validação cruzada\n",
    "    cv_scores = cross_val_score(dt_classifier_pca_cv, x_train_pca_n_cv, y_train.values.ravel(), cv=5, scoring='accuracy')\n",
    "    cv_mean_accuracy = cv_scores.mean()\n",
    "\n",
    "    # Adicionar resultados à lista\n",
    "    cv_results.append({\n",
    "        \"n_components\": n_components,\n",
    "        \"cv_mean_accuracy\": cv_mean_accuracy\n",
    "    })\n",
    "\n",
    "# Converter resultados para um DataFrame para melhor visualização\n",
    "cv_results_df = pd.DataFrame(cv_results)\n",
    "cv_results_df"
   ],
   "metadata": {
    "collapsed": false,
    "ExecuteTime": {
     "end_time": "2023-12-21T17:26:29.251622100Z",
     "start_time": "2023-12-21T17:26:20.962560300Z"
    }
   }
  },
  {
   "cell_type": "markdown",
   "source": [
    "- A acurácia foi aumentando conforme aumentamos o número de componentes.\n",
    "- Mas após 10 componentes, a acurácia estabilizou."
   ],
   "metadata": {
    "collapsed": false
   }
  },
  {
   "cell_type": "markdown",
   "source": [
    "### BÔNUS: Teste o número de componentes com grid search"
   ],
   "metadata": {
    "collapsed": false
   }
  },
  {
   "cell_type": "code",
   "execution_count": 8,
   "outputs": [
    {
     "name": "stdout",
     "output_type": "stream",
     "text": [
      "CPU times: total: 2.06 s\n",
      "Wall time: 27 s\n"
     ]
    },
    {
     "data": {
      "text/plain": "({'dt__ccp_alpha': 0.001, 'pca__n_components': 100}, 0.7992383357149795)"
     },
     "execution_count": 8,
     "metadata": {},
     "output_type": "execute_result"
    }
   ],
   "source": [
    "%%time\n",
    "\n",
    "# Definir o pipeline que combina PCA e árvore de decisão\n",
    "pipeline = Pipeline([\n",
    "    ('pca', PCA()),\n",
    "    ('dt', DecisionTreeClassifier())\n",
    "])\n",
    "\n",
    "# Espaço de parâmetros para GridSearchCV\n",
    "param_grid = {\n",
    "    'pca__n_components': [1, 2, 5, 10, 50, 100],\n",
    "    'dt__ccp_alpha': [0.0005, 0.001, 0.01, 0.1]\n",
    "}\n",
    "\n",
    "# Configurar GridSearchCV\n",
    "grid_search = GridSearchCV(pipeline, param_grid, cv=5, scoring='accuracy', n_jobs=-1)\n",
    "\n",
    "# Realizar Grid Search\n",
    "grid_search.fit(X_train, y_train.values.ravel())\n",
    "\n",
    "# Melhores parâmetros e acurácia correspondente\n",
    "best_params = grid_search.best_params_\n",
    "best_score = grid_search.best_score_\n",
    "\n",
    "best_params, best_score"
   ],
   "metadata": {
    "collapsed": false,
    "ExecuteTime": {
     "end_time": "2023-12-21T17:26:56.237847100Z",
     "start_time": "2023-12-21T17:26:29.252627400Z"
    }
   }
  },
  {
   "cell_type": "markdown",
   "source": [
    "- O melhor número de componentes foi 10 e o melhor ccp_alpha foi 0.001.\n",
    "- Mostrando que o PCA com 10 componentes e a árvore de decisão com ccp_alpha=0.001 é o melhor modelo para esse caso."
   ],
   "metadata": {
    "collapsed": false
   }
  }
 ],
 "metadata": {
  "kernelspec": {
   "display_name": "Python 3",
   "language": "python",
   "name": "python3"
  },
  "language_info": {
   "codemirror_mode": {
    "name": "ipython",
    "version": 3
   },
   "file_extension": ".py",
   "mimetype": "text/x-python",
   "name": "python",
   "nbconvert_exporter": "python",
   "pygments_lexer": "ipython3",
   "version": "3.8.5"
  },
  "toc": {
   "base_numbering": 1,
   "nav_menu": {},
   "number_sections": true,
   "sideBar": true,
   "skip_h1_title": true,
   "title_cell": "Índice",
   "title_sidebar": "Conteúdo",
   "toc_cell": false,
   "toc_position": {},
   "toc_section_display": true,
   "toc_window_display": false
  },
  "varInspector": {
   "cols": {
    "lenName": 16,
    "lenType": 16,
    "lenVar": 40
   },
   "kernels_config": {
    "python": {
     "delete_cmd_postfix": "",
     "delete_cmd_prefix": "del ",
     "library": "var_list.py",
     "varRefreshCmd": "print(var_dic_list())"
    },
    "r": {
     "delete_cmd_postfix": ") ",
     "delete_cmd_prefix": "rm(",
     "library": "var_list.r",
     "varRefreshCmd": "cat(var_dic_list()) "
    }
   },
   "types_to_exclude": [
    "module",
    "function",
    "builtin_function_or_method",
    "instance",
    "_Feature"
   ],
   "window_display": false
  }
 },
 "nbformat": 4,
 "nbformat_minor": 4
}
