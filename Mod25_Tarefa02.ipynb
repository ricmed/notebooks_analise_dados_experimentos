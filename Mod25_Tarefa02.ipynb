{
 "cells": [
  {
   "cell_type": "markdown",
   "metadata": {},
   "source": [
    "# Cálculo - Tarefa 02\n",
    "\n",
    "1- Calcule de forma numérica a integral da função $x^3$ avaliada entre os pontos $1$ e $2$. Identifique o número de retângulos que você usou.  \n",
    "2- Calcule essa área de forma analítica."
   ]
  },
  {
   "cell_type": "code",
   "execution_count": 4,
   "metadata": {
    "ExecuteTime": {
     "end_time": "2023-12-19T19:09:06.622822500Z",
     "start_time": "2023-12-19T19:09:06.579255100Z"
    }
   },
   "outputs": [
    {
     "data": {
      "text/plain": "(3.7499996249999996, 1000)"
     },
     "execution_count": 4,
     "metadata": {},
     "output_type": "execute_result"
    }
   ],
   "source": [
    "# 1- Calcule de forma numérica a integral da função $x^3$ avaliada entre os pontos $1$ e $2$. Identifique o número de retângulos que você usou.\n",
    "\n",
    "# Passo 1: Dividir o intervalo\n",
    "# Já definimos n = 1000\n",
    "import numpy as np\n",
    "\n",
    "# Definindo a função\n",
    "def f(x):\n",
    "    return x**3\n",
    "\n",
    "\n",
    "n = 1000\n",
    "\n",
    "# Limites de integração\n",
    "a, b = 1, 2\n",
    "\n",
    "# Passo 2: Largura dos Retângulos (dx)\n",
    "dx = (b - a) / n\n",
    "\n",
    "# Coordenadas x dos retângulos\n",
    "x = np.linspace(a + dx/2, b - dx/2, n)\n",
    "\n",
    "# Área total usando o método dos retângulos\n",
    "area_numerica = np.sum(f(x) * dx)\n",
    "area_numerica, n\n"
   ]
  },
  {
   "cell_type": "code",
   "execution_count": 5,
   "outputs": [],
   "source": [
    "# 2- Calcule essa área de forma analítica."
   ],
   "metadata": {
    "collapsed": false,
    "ExecuteTime": {
     "end_time": "2023-12-19T19:09:06.649821400Z",
     "start_time": "2023-12-19T19:09:06.590712500Z"
    }
   }
  },
  {
   "cell_type": "markdown",
   "source": [
    "Para calcular a área sob a curva da função $f(x) = x^3$ no intervalo de 1 a 2, eu farei primeiro o cálculo numérico usando o método dos retângulos e depois o cálculo analítico.\n",
    "\n",
    "### Cálculo Analítico\n",
    "\n",
    "Para o cálculo analítico, integraremos a função $f(x) = x^3$ de 1 a 2. A integral indefinida de $x^3$ é $\\frac{1}{4}x^4 $, e aplicaremos os limites de integração para encontrar a área exata.\n",
    "\n",
    "Primeiro, vou calcular a área usando o método dos retângulos.\n",
    "\n",
    "A integral definida de $f(x) = x^3$ de 1 a 2 é dada por:\n",
    "\n",
    "$$\\int_{1}^{2} x^3 \\, dx = \\left[ \\frac{1}{4}x^4 \\right]_{1}^{2} \\rightarrow \\frac{15}{4} \\rightarrow 3.75$$\n",
    "\n",
    "Portanto, o cálculo analítico resulta no mesmo valor, 3.75, para a área sob a curva no intervalo especificado."
   ],
   "metadata": {
    "collapsed": false
   }
  }
 ],
 "metadata": {
  "kernelspec": {
   "display_name": "Python 3",
   "language": "python",
   "name": "python3"
  },
  "language_info": {
   "codemirror_mode": {
    "name": "ipython",
    "version": 3
   },
   "file_extension": ".py",
   "mimetype": "text/x-python",
   "name": "python",
   "nbconvert_exporter": "python",
   "pygments_lexer": "ipython3",
   "version": "3.8.5"
  },
  "toc": {
   "base_numbering": 1,
   "nav_menu": {},
   "number_sections": true,
   "sideBar": true,
   "skip_h1_title": true,
   "title_cell": "Índice",
   "title_sidebar": "Conteúdo",
   "toc_cell": false,
   "toc_position": {},
   "toc_section_display": true,
   "toc_window_display": false
  },
  "varInspector": {
   "cols": {
    "lenName": 16,
    "lenType": 16,
    "lenVar": 40
   },
   "kernels_config": {
    "python": {
     "delete_cmd_postfix": "",
     "delete_cmd_prefix": "del ",
     "library": "var_list.py",
     "varRefreshCmd": "print(var_dic_list())"
    },
    "r": {
     "delete_cmd_postfix": ") ",
     "delete_cmd_prefix": "rm(",
     "library": "var_list.r",
     "varRefreshCmd": "cat(var_dic_list()) "
    }
   },
   "types_to_exclude": [
    "module",
    "function",
    "builtin_function_or_method",
    "instance",
    "_Feature"
   ],
   "window_display": false
  }
 },
 "nbformat": 4,
 "nbformat_minor": 4
}
