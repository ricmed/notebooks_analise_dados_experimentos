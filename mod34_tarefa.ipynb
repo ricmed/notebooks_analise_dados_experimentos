{
 "cells": [
  {
   "cell_type": "markdown",
   "metadata": {},
   "source": [
    "# Regressão III - Tarefa"
   ]
  },
  {
   "cell_type": "code",
   "execution_count": 1,
   "metadata": {
    "ExecuteTime": {
     "end_time": "2024-01-08T19:54:58.183006700Z",
     "start_time": "2024-01-08T19:54:57.021020600Z"
    }
   },
   "outputs": [],
   "source": [
    "import numpy as np\n",
    "import pandas as pd\n",
    "import seaborn as sns\n",
    "import matplotlib.pyplot as plt\n",
    "import statsmodels.formula.api as smf\n",
    "import statsmodels.api as sm\n",
    "from patsy import dmatrix\n",
    "from scipy.interpolate import interp1d\n"
   ]
  },
  {
   "cell_type": "code",
   "execution_count": 2,
   "metadata": {
    "ExecuteTime": {
     "end_time": "2024-01-08T19:54:59.390885900Z",
     "start_time": "2024-01-08T19:54:58.189008500Z"
    }
   },
   "outputs": [
    {
     "data": {
      "text/plain": "            index sexo posse_de_veiculo posse_de_imovel  qtd_filhos  \\\ndata_ref                                                              \n2015-01-01   5762    M                S               N           0   \n2015-01-01   1279    M                S               N           0   \n2015-01-01  14111    M                S               N           0   \n2015-01-01   8189    M                N               S           2   \n2015-01-01   1830    F                N               S           2   \n\n             tipo_renda             educacao estado_civil tipo_residencia  \\\ndata_ref                                                                    \n2015-01-01   Empresário    Superior completo       Casado            Casa   \n2015-01-01  Assalariado  Superior incompleto       Casado            Casa   \n2015-01-01  Assalariado    Superior completo       Casado            Casa   \n2015-01-01  Assalariado                Médio       Casado            Casa   \n2015-01-01  Assalariado    Superior completo       Casado            Casa   \n\n            idade  tempo_emprego  qt_pessoas_residencia     renda  \ndata_ref                                                           \n2015-01-01     47      16.717808                    2.0  11138.14  \n2015-01-01     30       9.600000                    2.0   2424.81  \n2015-01-01     28       8.208219                    2.0  13749.66  \n2015-01-01     44       1.301370                    4.0   2361.84  \n2015-01-01     33       1.254795                    4.0    790.78  ",
      "text/html": "<div>\n<style scoped>\n    .dataframe tbody tr th:only-of-type {\n        vertical-align: middle;\n    }\n\n    .dataframe tbody tr th {\n        vertical-align: top;\n    }\n\n    .dataframe thead th {\n        text-align: right;\n    }\n</style>\n<table border=\"1\" class=\"dataframe\">\n  <thead>\n    <tr style=\"text-align: right;\">\n      <th></th>\n      <th>index</th>\n      <th>sexo</th>\n      <th>posse_de_veiculo</th>\n      <th>posse_de_imovel</th>\n      <th>qtd_filhos</th>\n      <th>tipo_renda</th>\n      <th>educacao</th>\n      <th>estado_civil</th>\n      <th>tipo_residencia</th>\n      <th>idade</th>\n      <th>tempo_emprego</th>\n      <th>qt_pessoas_residencia</th>\n      <th>renda</th>\n    </tr>\n    <tr>\n      <th>data_ref</th>\n      <th></th>\n      <th></th>\n      <th></th>\n      <th></th>\n      <th></th>\n      <th></th>\n      <th></th>\n      <th></th>\n      <th></th>\n      <th></th>\n      <th></th>\n      <th></th>\n      <th></th>\n    </tr>\n  </thead>\n  <tbody>\n    <tr>\n      <th>2015-01-01</th>\n      <td>5762</td>\n      <td>M</td>\n      <td>S</td>\n      <td>N</td>\n      <td>0</td>\n      <td>Empresário</td>\n      <td>Superior completo</td>\n      <td>Casado</td>\n      <td>Casa</td>\n      <td>47</td>\n      <td>16.717808</td>\n      <td>2.0</td>\n      <td>11138.14</td>\n    </tr>\n    <tr>\n      <th>2015-01-01</th>\n      <td>1279</td>\n      <td>M</td>\n      <td>S</td>\n      <td>N</td>\n      <td>0</td>\n      <td>Assalariado</td>\n      <td>Superior incompleto</td>\n      <td>Casado</td>\n      <td>Casa</td>\n      <td>30</td>\n      <td>9.600000</td>\n      <td>2.0</td>\n      <td>2424.81</td>\n    </tr>\n    <tr>\n      <th>2015-01-01</th>\n      <td>14111</td>\n      <td>M</td>\n      <td>S</td>\n      <td>N</td>\n      <td>0</td>\n      <td>Assalariado</td>\n      <td>Superior completo</td>\n      <td>Casado</td>\n      <td>Casa</td>\n      <td>28</td>\n      <td>8.208219</td>\n      <td>2.0</td>\n      <td>13749.66</td>\n    </tr>\n    <tr>\n      <th>2015-01-01</th>\n      <td>8189</td>\n      <td>M</td>\n      <td>N</td>\n      <td>S</td>\n      <td>2</td>\n      <td>Assalariado</td>\n      <td>Médio</td>\n      <td>Casado</td>\n      <td>Casa</td>\n      <td>44</td>\n      <td>1.301370</td>\n      <td>4.0</td>\n      <td>2361.84</td>\n    </tr>\n    <tr>\n      <th>2015-01-01</th>\n      <td>1830</td>\n      <td>F</td>\n      <td>N</td>\n      <td>S</td>\n      <td>2</td>\n      <td>Assalariado</td>\n      <td>Superior completo</td>\n      <td>Casado</td>\n      <td>Casa</td>\n      <td>33</td>\n      <td>1.254795</td>\n      <td>4.0</td>\n      <td>790.78</td>\n    </tr>\n  </tbody>\n</table>\n</div>"
     },
     "execution_count": 2,
     "metadata": {},
     "output_type": "execute_result"
    }
   ],
   "source": [
    "df = pd.read_csv('previsao_de_renda_II.csv', index_col=0)\n",
    "df.head()"
   ]
  },
  {
   "cell_type": "markdown",
   "source": [
    "## Avalie valores missing e substitua pela média\n",
    "\n",
    "Neste exercício não vamos nos preocupar com valores *missing*. Substitua-os pela média."
   ],
   "metadata": {
    "collapsed": false
   }
  },
  {
   "cell_type": "code",
   "execution_count": 3,
   "metadata": {
    "ExecuteTime": {
     "end_time": "2024-01-08T19:54:59.548635400Z",
     "start_time": "2024-01-08T19:54:59.388884700Z"
    }
   },
   "outputs": [
    {
     "data": {
      "text/plain": "            index sexo posse_de_veiculo posse_de_imovel  qtd_filhos  \\\ndata_ref                                                              \n2015-01-01   5762    M                S               N           0   \n2015-01-01   1279    M                S               N           0   \n2015-01-01  14111    M                S               N           0   \n2015-01-01   8189    M                N               S           2   \n2015-01-01   1830    F                N               S           2   \n\n             tipo_renda             educacao estado_civil tipo_residencia  \\\ndata_ref                                                                    \n2015-01-01   Empresário    Superior completo       Casado            Casa   \n2015-01-01  Assalariado  Superior incompleto       Casado            Casa   \n2015-01-01  Assalariado    Superior completo       Casado            Casa   \n2015-01-01  Assalariado                Médio       Casado            Casa   \n2015-01-01  Assalariado    Superior completo       Casado            Casa   \n\n            idade  tempo_emprego  qt_pessoas_residencia     renda  \ndata_ref                                                           \n2015-01-01     47      16.717808                    2.0  11138.14  \n2015-01-01     30       9.600000                    2.0   2424.81  \n2015-01-01     28       8.208219                    2.0  13749.66  \n2015-01-01     44       1.301370                    4.0   2361.84  \n2015-01-01     33       1.254795                    4.0    790.78  ",
      "text/html": "<div>\n<style scoped>\n    .dataframe tbody tr th:only-of-type {\n        vertical-align: middle;\n    }\n\n    .dataframe tbody tr th {\n        vertical-align: top;\n    }\n\n    .dataframe thead th {\n        text-align: right;\n    }\n</style>\n<table border=\"1\" class=\"dataframe\">\n  <thead>\n    <tr style=\"text-align: right;\">\n      <th></th>\n      <th>index</th>\n      <th>sexo</th>\n      <th>posse_de_veiculo</th>\n      <th>posse_de_imovel</th>\n      <th>qtd_filhos</th>\n      <th>tipo_renda</th>\n      <th>educacao</th>\n      <th>estado_civil</th>\n      <th>tipo_residencia</th>\n      <th>idade</th>\n      <th>tempo_emprego</th>\n      <th>qt_pessoas_residencia</th>\n      <th>renda</th>\n    </tr>\n    <tr>\n      <th>data_ref</th>\n      <th></th>\n      <th></th>\n      <th></th>\n      <th></th>\n      <th></th>\n      <th></th>\n      <th></th>\n      <th></th>\n      <th></th>\n      <th></th>\n      <th></th>\n      <th></th>\n      <th></th>\n    </tr>\n  </thead>\n  <tbody>\n    <tr>\n      <th>2015-01-01</th>\n      <td>5762</td>\n      <td>M</td>\n      <td>S</td>\n      <td>N</td>\n      <td>0</td>\n      <td>Empresário</td>\n      <td>Superior completo</td>\n      <td>Casado</td>\n      <td>Casa</td>\n      <td>47</td>\n      <td>16.717808</td>\n      <td>2.0</td>\n      <td>11138.14</td>\n    </tr>\n    <tr>\n      <th>2015-01-01</th>\n      <td>1279</td>\n      <td>M</td>\n      <td>S</td>\n      <td>N</td>\n      <td>0</td>\n      <td>Assalariado</td>\n      <td>Superior incompleto</td>\n      <td>Casado</td>\n      <td>Casa</td>\n      <td>30</td>\n      <td>9.600000</td>\n      <td>2.0</td>\n      <td>2424.81</td>\n    </tr>\n    <tr>\n      <th>2015-01-01</th>\n      <td>14111</td>\n      <td>M</td>\n      <td>S</td>\n      <td>N</td>\n      <td>0</td>\n      <td>Assalariado</td>\n      <td>Superior completo</td>\n      <td>Casado</td>\n      <td>Casa</td>\n      <td>28</td>\n      <td>8.208219</td>\n      <td>2.0</td>\n      <td>13749.66</td>\n    </tr>\n    <tr>\n      <th>2015-01-01</th>\n      <td>8189</td>\n      <td>M</td>\n      <td>N</td>\n      <td>S</td>\n      <td>2</td>\n      <td>Assalariado</td>\n      <td>Médio</td>\n      <td>Casado</td>\n      <td>Casa</td>\n      <td>44</td>\n      <td>1.301370</td>\n      <td>4.0</td>\n      <td>2361.84</td>\n    </tr>\n    <tr>\n      <th>2015-01-01</th>\n      <td>1830</td>\n      <td>F</td>\n      <td>N</td>\n      <td>S</td>\n      <td>2</td>\n      <td>Assalariado</td>\n      <td>Superior completo</td>\n      <td>Casado</td>\n      <td>Casa</td>\n      <td>33</td>\n      <td>1.254795</td>\n      <td>4.0</td>\n      <td>790.78</td>\n    </tr>\n  </tbody>\n</table>\n</div>"
     },
     "execution_count": 3,
     "metadata": {},
     "output_type": "execute_result"
    }
   ],
   "source": [
    "# Identify numerical columns\n",
    "numerical_columns = df.select_dtypes(include=['float64', 'int64']).columns\n",
    "\n",
    "# Replace missing values in numerical columns with the mean of their respective columns\n",
    "for column in numerical_columns:\n",
    "    mean_value = df[column].mean()\n",
    "    df[column].fillna(mean_value, inplace=True)\n",
    "\n",
    "# Display the first few rows to verify the changes\n",
    "df.head()"
   ]
  },
  {
   "cell_type": "markdown",
   "metadata": {},
   "source": [
    "### Base de testes\n",
    "\n",
    "Separe os três últimos meses como base *holdout* (base de teste)."
   ]
  },
  {
   "cell_type": "code",
   "execution_count": 4,
   "metadata": {
    "ExecuteTime": {
     "end_time": "2024-01-08T19:54:59.687481100Z",
     "start_time": "2024-01-08T19:54:59.453640200Z"
    }
   },
   "outputs": [],
   "source": [
    "# Converter o índice em uma coluna de data e resetar o index\n",
    "df['data_ref'] = pd.to_datetime(df.index)\n",
    "df.reset_index(drop=True, inplace=True)\n",
    "\n",
    "# Separar os três últimos meses como base de teste\n",
    "max_date = df['data_ref'].max()\n",
    "cutoff_date = max_date - pd.DateOffset(months=3)\n",
    "df_train = df[df['data_ref'] <= cutoff_date]\n",
    "df_test = df[df['data_ref'] > cutoff_date]"
   ]
  },
  {
   "cell_type": "markdown",
   "metadata": {},
   "source": [
    "### Primeiro modelo\n",
    " Não use *index* e não use a data. Avalie o modelo com o $R^2-ajustado$"
   ]
  },
  {
   "cell_type": "code",
   "execution_count": 5,
   "metadata": {
    "ExecuteTime": {
     "end_time": "2024-01-08T19:54:59.822477200Z",
     "start_time": "2024-01-08T19:54:59.647525400Z"
    }
   },
   "outputs": [
    {
     "name": "stderr",
     "output_type": "stream",
     "text": [
      "C:\\Users\\ricme\\AppData\\Local\\Temp\\ipykernel_27052\\3029434719.py:2: SettingWithCopyWarning: \n",
      "A value is trying to be set on a copy of a slice from a DataFrame\n",
      "\n",
      "See the caveats in the documentation: https://pandas.pydata.org/pandas-docs/stable/user_guide/indexing.html#returning-a-view-versus-a-copy\n",
      "  df_test.drop('index', axis=1, inplace=True)\n"
     ]
    }
   ],
   "source": [
    "#Excluir a coluna index\n",
    "df_test.drop('index', axis=1, inplace=True)"
   ]
  },
  {
   "cell_type": "code",
   "execution_count": 6,
   "outputs": [
    {
     "data": {
      "text/plain": "Index(['sexo', 'posse_de_veiculo', 'posse_de_imovel', 'qtd_filhos',\n       'tipo_renda', 'educacao', 'estado_civil', 'tipo_residencia', 'idade',\n       'tempo_emprego', 'qt_pessoas_residencia', 'renda', 'data_ref'],\n      dtype='object')"
     },
     "execution_count": 6,
     "metadata": {},
     "output_type": "execute_result"
    }
   ],
   "source": [
    "df_test.columns"
   ],
   "metadata": {
    "collapsed": false,
    "ExecuteTime": {
     "end_time": "2024-01-08T19:54:59.822477200Z",
     "start_time": "2024-01-08T19:54:59.671931100Z"
    }
   }
  },
  {
   "cell_type": "code",
   "execution_count": 7,
   "outputs": [],
   "source": [
    "reg = smf.ols(formula='renda ~ C(sexo) + C(posse_de_veiculo) + C(posse_de_imovel) + qtd_filhos + C(tipo_renda) + C(educacao) + C(estado_civil) + C(tipo_residencia) + idade + tempo_emprego + qt_pessoas_residencia', data=df_test).fit()\n"
   ],
   "metadata": {
    "collapsed": false,
    "ExecuteTime": {
     "end_time": "2024-01-08T19:55:05.308498700Z",
     "start_time": "2024-01-08T19:54:59.680487Z"
    }
   }
  },
  {
   "cell_type": "markdown",
   "source": [],
   "metadata": {
    "collapsed": false
   }
  },
  {
   "cell_type": "code",
   "execution_count": 8,
   "outputs": [
    {
     "name": "stdout",
     "output_type": "stream",
     "text": [
      "R-quadrado: 31.79%\n"
     ]
    }
   ],
   "source": [
    "print(f'R-quadrado: {reg.rsquared_adj :.2%}')"
   ],
   "metadata": {
    "collapsed": false,
    "ExecuteTime": {
     "end_time": "2024-01-08T19:55:05.331527Z",
     "start_time": "2024-01-08T19:55:05.311500200Z"
    }
   }
  },
  {
   "cell_type": "markdown",
   "metadata": {},
   "source": [
    "### Análise de perfil\n",
    "\n",
    "Categorize a variável ```tempo_emprego``` em 20 quantis (cada categoria deve ter aproximadamente a mesma quantidade de observações) e faça uma tabela de perfil (armazene como dataframe) para esta categorização:\n",
    "\n",
    "- Cada linha é uma categoria\n",
    "- Uma coluna para a quantidade de observações de cada categoria\n",
    "- Uma coluna para a média do log-renda para cada categoria\n",
    "- Uma coluna para a média do tempo de emprego para cada categoria\n",
    "\n",
    "Faça um gráfico da média do tempo de emprego pela média do log-renda. Insira uma célula de texto e comente se te parece que alguma das transformações vistas no módulo deve fornecer bons resultados."
   ]
  },
  {
   "cell_type": "code",
   "execution_count": 9,
   "metadata": {
    "ExecuteTime": {
     "end_time": "2024-01-08T19:55:05.816631100Z",
     "start_time": "2024-01-08T19:55:05.328533300Z"
    }
   },
   "outputs": [
    {
     "name": "stderr",
     "output_type": "stream",
     "text": [
      "C:\\Users\\ricme\\AppData\\Local\\Temp\\ipykernel_27052\\1931692727.py:2: SettingWithCopyWarning: \n",
      "A value is trying to be set on a copy of a slice from a DataFrame.\n",
      "Try using .loc[row_indexer,col_indexer] = value instead\n",
      "\n",
      "See the caveats in the documentation: https://pandas.pydata.org/pandas-docs/stable/user_guide/indexing.html#returning-a-view-versus-a-copy\n",
      "  df_test['tempo_emprego_cat'] = pd.qcut(df_test['tempo_emprego'], 20, duplicates='drop')\n"
     ]
    },
    {
     "data": {
      "text/plain": "<Figure size 1000x600 with 1 Axes>",
      "image/png": "[encoded data removed]"
     },
     "metadata": {},
     "output_type": "display_data"
    },
    {
     "data": {
      "text/plain": "              tempo_emprego_cat  qtd_observacoes  media_log_renda  \\\n0  (0.11699999999999999, 0.827]             7601         7.202604   \n1                (0.827, 1.468]             7464         7.257080   \n2                (1.468, 2.099]             7459         7.401755   \n3                (2.099, 2.912]             7511         7.472002   \n4                (2.912, 3.636]             7507         7.578685   \n\n   media_tempo_emprego  \n0             0.520903  \n1             1.134215  \n2             1.790156  \n3             2.514075  \n4             3.299975  ",
      "text/html": "<div>\n<style scoped>\n    .dataframe tbody tr th:only-of-type {\n        vertical-align: middle;\n    }\n\n    .dataframe tbody tr th {\n        vertical-align: top;\n    }\n\n    .dataframe thead th {\n        text-align: right;\n    }\n</style>\n<table border=\"1\" class=\"dataframe\">\n  <thead>\n    <tr style=\"text-align: right;\">\n      <th></th>\n      <th>tempo_emprego_cat</th>\n      <th>qtd_observacoes</th>\n      <th>media_log_renda</th>\n      <th>media_tempo_emprego</th>\n    </tr>\n  </thead>\n  <tbody>\n    <tr>\n      <th>0</th>\n      <td>(0.11699999999999999, 0.827]</td>\n      <td>7601</td>\n      <td>7.202604</td>\n      <td>0.520903</td>\n    </tr>\n    <tr>\n      <th>1</th>\n      <td>(0.827, 1.468]</td>\n      <td>7464</td>\n      <td>7.257080</td>\n      <td>1.134215</td>\n    </tr>\n    <tr>\n      <th>2</th>\n      <td>(1.468, 2.099]</td>\n      <td>7459</td>\n      <td>7.401755</td>\n      <td>1.790156</td>\n    </tr>\n    <tr>\n      <th>3</th>\n      <td>(2.099, 2.912]</td>\n      <td>7511</td>\n      <td>7.472002</td>\n      <td>2.514075</td>\n    </tr>\n    <tr>\n      <th>4</th>\n      <td>(2.912, 3.636]</td>\n      <td>7507</td>\n      <td>7.578685</td>\n      <td>3.299975</td>\n    </tr>\n  </tbody>\n</table>\n</div>"
     },
     "execution_count": 9,
     "metadata": {},
     "output_type": "execute_result"
    }
   ],
   "source": [
    "\n",
    "# Categorizando a variável 'tempo_emprego' em 20 quantis\n",
    "df_test['tempo_emprego_cat'] = pd.qcut(df_test['tempo_emprego'], 20, duplicates='drop')\n",
    "\n",
    "# Calculando as métricas necessárias\n",
    "perfil = df_test.groupby('tempo_emprego_cat').agg(\n",
    "    qtd_observacoes=('tempo_emprego', 'count'),\n",
    "    media_log_renda=('renda', lambda x: np.mean(np.log(x))),\n",
    "    media_tempo_emprego=('tempo_emprego', 'mean')\n",
    ").reset_index()\n",
    "\n",
    "# Criando o gráfico da média do tempo de emprego pela média do log-renda\n",
    "plt.figure(figsize=(10, 6))\n",
    "plt.scatter(perfil['media_log_renda'], perfil['media_tempo_emprego'])\n",
    "plt.xlabel('Média do Log-Renda')\n",
    "plt.ylabel('Média do Tempo de Emprego')\n",
    "plt.title('Média do Tempo de Emprego pela Média do Log-Renda')\n",
    "plt.grid(True)\n",
    "plt.show()\n",
    "\n",
    "perfil.head()"
   ]
  },
  {
   "cell_type": "markdown",
   "source": [
    "- A aplicação do logaritmo na variável `renda` parece ter melhorado a relação com a variável `tempo_emprego`. A relação entre as duas variáveis parece ser linear, mas com uma tendência de crescimento mais acentuada para valores de `tempo_emprego` maiores. Portanto, a aplicação de uma transformação logarítmica na variável `renda` pode ser uma boa opção para melhorar o ajuste do modelo."
   ],
   "metadata": {
    "collapsed": false
   }
  },
  {
   "cell_type": "markdown",
   "metadata": {},
   "source": [
    "### Linearização\n",
    "\n",
    "Experimente pelo menos duas técnicas de linearização vistas ao longo do módulo para melhorar o ajuste da variável ```tempo_emprego```. Compare o $R^2-ajustado$ e avalie se alguma delas apresentou resultados relevantes com relação ao primeiro modelo.\n"
   ]
  },
  {
   "cell_type": "code",
   "execution_count": 10,
   "metadata": {
    "ExecuteTime": {
     "end_time": "2024-01-08T19:55:26.883148900Z",
     "start_time": "2024-01-08T19:55:05.823634500Z"
    }
   },
   "outputs": [
    {
     "data": {
      "text/plain": "{'Modelo Original': 0.3056963028038209,\n 'Modelo Segmentado': 0.525964030975719,\n 'Modelo Lowess': 0.47206730797698493}"
     },
     "execution_count": 10,
     "metadata": {},
     "output_type": "execute_result"
    }
   ],
   "source": [
    "# Preparando os dados para a análise\n",
    "data_clean = df_test.dropna(subset=['tempo_emprego', 'renda'])\n",
    "\n",
    "# Aplicando Lowess (locally weighted scatterplot smoothing)\n",
    "lowess_results = sm.nonparametric.lowess(data_clean['renda'], data_clean['tempo_emprego'], frac=0.2)\n",
    "\n",
    "# Valores de Y suavizados\n",
    "lowess_y = lowess_results[:, 1]\n",
    "lowess_x = lowess_results[:, 0]\n",
    "\n",
    "# Roda a interpolação do scipy\n",
    "f = interp1d(lowess_x, lowess_y, bounds_error=False)\n",
    "\n",
    "data_clean['lowess_x'] = f(data_clean.tempo_emprego)\n",
    "\n",
    "res = smf.ols('renda ~ lowess_x',data=data_clean).fit()\n",
    "\n",
    "\n",
    "# Regressão segmentada (Splines)\n",
    "# Transformando a variável 'tempo_emprego' usando splines\n",
    "transformed_x = dmatrix(\"bs(data_clean.tempo_emprego, df=6, include_intercept=False)\",\n",
    "                        {\"data_clean.tempo_emprego\": data_clean.tempo_emprego}, return_type='dataframe')\n",
    "\n",
    "# Ajustando o modelo de regressão linear com a variável transformada\n",
    "model_splines = sm.OLS(data_clean['renda'], transformed_x).fit()\n",
    "\n",
    "# Comparando os modelos\n",
    "# Primeiro modelo (original)\n",
    "reg_original = smf.ols(formula='renda ~ tempo_emprego', data=data_clean).fit()\n",
    "\n",
    "# Avaliando os modelos\n",
    "comparacao = {\n",
    "    'Modelo Original': reg_original.rsquared_adj,\n",
    "    'Modelo Segmentado': model_splines.rsquared_adj,\n",
    "    'Modelo Lowess': res.rsquared_adj\n",
    "}\n",
    "\n",
    "comparacao\n"
   ]
  },
  {
   "cell_type": "markdown",
   "metadata": {},
   "source": [
    "### Avaliando o modelo\n",
    "\n",
    "Avalie os resultados dos modelos construidos na base de testes."
   ]
  },
  {
   "cell_type": "markdown",
   "source": [
    "- O modelo segmentado apresentou o melhor ajuste, com um $R^2-ajustado$ de 0.52. O modelo original apresentou um $R^2-ajustado$ de 0.30, enquanto o modelo com a transformação Lowess apresentou um $R^2-ajustado$ de 0.42. Portanto, o modelo segmentado foi o que apresentou o melhor ajuste."
   ],
   "metadata": {
    "collapsed": false
   }
  }
 ],
 "metadata": {
  "kernelspec": {
   "display_name": "Python 3",
   "language": "python",
   "name": "python3"
  },
  "language_info": {
   "codemirror_mode": {
    "name": "ipython",
    "version": 3
   },
   "file_extension": ".py",
   "mimetype": "text/x-python",
   "name": "python",
   "nbconvert_exporter": "python",
   "pygments_lexer": "ipython3",
   "version": "3.8.5"
  },
  "toc": {
   "base_numbering": 1,
   "nav_menu": {},
   "number_sections": false,
   "sideBar": true,
   "skip_h1_title": true,
   "title_cell": "Índice",
   "title_sidebar": "Conteúdo",
   "toc_cell": false,
   "toc_position": {},
   "toc_section_display": true,
   "toc_window_display": false
  },
  "varInspector": {
   "cols": {
    "lenName": 16,
    "lenType": 16,
    "lenVar": 40
   },
   "kernels_config": {
    "python": {
     "delete_cmd_postfix": "",
     "delete_cmd_prefix": "del ",
     "library": "var_list.py",
     "varRefreshCmd": "print(var_dic_list())"
    },
    "r": {
     "delete_cmd_postfix": ") ",
     "delete_cmd_prefix": "rm(",
     "library": "var_list.r",
     "varRefreshCmd": "cat(var_dic_list()) "
    }
   },
   "types_to_exclude": [
    "module",
    "function",
    "builtin_function_or_method",
    "instance",
    "_Feature"
   ],
   "window_display": false
  }
 },
 "nbformat": 4,
 "nbformat_minor": 4
}
