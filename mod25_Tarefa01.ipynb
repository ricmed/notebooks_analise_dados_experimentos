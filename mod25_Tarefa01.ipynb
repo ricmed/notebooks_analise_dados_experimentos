{
 "cells": [
  {
   "cell_type": "markdown",
   "metadata": {},
   "source": [
    "# Cálculo - Tarefa 01\n",
    "\n",
    "1. Marque quais desses métodos/algoritmos muito populares em ciência de dados são baseados no uso de derivada:\n",
    "\n",
    "    1. Método Mínimos Quadrados\n",
    "    2. Gradiente descendente\n",
    "    3. Newton Raphson\n",
    "    4. CART (Árvore de decisão)"
   ]
  },
  {
   "cell_type": "markdown",
   "source": [
    "\n",
    "Método Mínimos Quadrados: Este método é frequentemente utilizado em regressão linear e envolve a minimização da soma dos quadrados das diferenças entre os valores observados e os valores previstos. Embora a formulação inicial do método de mínimos quadrados não exija explicitamente o uso de derivadas, na prática, para encontrar os coeficientes de uma regressão linear (especialmente em sua forma multivariada), geralmente utilizamos derivadas para minimizar o erro quadrático.\n",
    "\n",
    "Gradiente Descendente: Este é um método de otimização amplamente utilizado em aprendizado de máquina, particularmente para treinar redes neurais. Ele baseia-se no uso de derivadas para determinar a direção na qual uma função (como uma função de perda ou custo) está diminuindo mais rapidamente, e então faz atualizações iterativas dos parâmetros nessa direção.\n",
    "\n",
    "Newton-Raphson: Este é um método numérico para encontrar aproximações de raízes (ou zeros) de uma função real. Ele utiliza derivadas (primeira e, às vezes, segunda derivada) para iterativamente melhorar uma estimativa da raiz. É amplamente utilizado em otimização e na solução de equações não lineares.\n",
    "\n",
    "CART (Árvore de Decisão): O algoritmo CART (Classification and Regression Trees) é utilizado para construir árvores de decisão para classificação e regressão. Este método não se baseia no uso de derivadas. Ao invés disso, utiliza critérios como ganho de informação ou índice Gini para dividir os dados de maneira a maximizar a pureza dos nós.\n",
    "\n",
    "**Portanto, dos métodos listados, o Método Mínimos Quadrados, o Gradiente Descendente e o Newton-Raphson são baseados no uso de derivadas. O CART (Árvore de Decisão) não utiliza derivadas em sua formulação.**"
   ],
   "metadata": {
    "collapsed": false
   }
  },
  {
   "cell_type": "markdown",
   "metadata": {},
   "source": [
    "2. Dada uma base de dados com uma variável resposta $y$ e um conjunto de variáveis explicativas. Considere uma estrutura de um modelo de regressão. Explique com suas palavras por que não é possível obter parâmetros que forneçam um erro quadrático médio (EQM) menor que o obtido com estimadores de mínimos quadrados."
   ]
  },
  {
   "cell_type": "markdown",
   "source": [
    "O Método dos Mínimos Quadrados é uma técnica fundamental na estatística para estimar os coeficientes de um modelo de regressão. O objetivo deste método é minimizar a soma dos quadrados das diferenças (resíduos) entre os valores observados da variável resposta (y) e aqueles previstos pelo modelo de regressão. Essa soma dos quadrados dos resíduos é diretamente relacionada ao Erro Quadrático Médio (EQM).\n",
    "\n",
    "A razão pela qual não é possível obter um EQM menor que o obtido com estimadores de mínimos quadrados, no contexto de um modelo de regressão linear, é devido à natureza matemática desses estimadores. O método dos mínimos quadrados é derivado com base na minimização do EQM. Em termos matemáticos, ao derivar a função de custo (que, neste caso, é a soma dos quadrados dos resíduos) em relação a cada um dos coeficientes e igualar a zero, obtemos um conjunto de equações (normalmente conhecidas como equações normais) cuja solução fornece os estimadores que minimizam o EQM.\n",
    "\n",
    "Esses estimadores são ótimos no sentido de que, dentro do conjunto de modelos lineares e sob certas condições (como a expectativa do erro ser zero e a variância dos erros ser constante e finita), eles fornecem a melhor aproximação linear não-viesada para a relação entre as variáveis explicativas e a variável resposta. Em outras palavras, para um dado conjunto de dados e um modelo de regressão linear específico, você não encontrará um conjunto de coeficientes que resulte em um EQM menor do que aquele obtido pelos estimadores de mínimos quadrados.\n",
    "\n",
    "É importante notar que essa propriedade de minimização do EQM se aplica estritamente dentro do contexto de modelos lineares. Em situações onde o modelo linear não é apropriado, ou onde outras considerações (como regularização para evitar sobreajuste) são importantes, podem existir outros métodos que, embora não minimizem o EQM no mesmo sentido estrito, podem ser mais eficazes para a tarefa de modelagem em questão."
   ],
   "metadata": {
    "collapsed": false
   }
  }
 ],
 "metadata": {
  "kernelspec": {
   "display_name": "Python 3",
   "language": "python",
   "name": "python3"
  },
  "language_info": {
   "codemirror_mode": {
    "name": "ipython",
    "version": 3
   },
   "file_extension": ".py",
   "mimetype": "text/x-python",
   "name": "python",
   "nbconvert_exporter": "python",
   "pygments_lexer": "ipython3",
   "version": "3.8.5"
  },
  "toc": {
   "base_numbering": 1,
   "nav_menu": {},
   "number_sections": true,
   "sideBar": true,
   "skip_h1_title": true,
   "title_cell": "Índice",
   "title_sidebar": "Conteúdo",
   "toc_cell": false,
   "toc_position": {},
   "toc_section_display": true,
   "toc_window_display": false
  },
  "varInspector": {
   "cols": {
    "lenName": 16,
    "lenType": 16,
    "lenVar": 40
   },
   "kernels_config": {
    "python": {
     "delete_cmd_postfix": "",
     "delete_cmd_prefix": "del ",
     "library": "var_list.py",
     "varRefreshCmd": "print(var_dic_list())"
    },
    "r": {
     "delete_cmd_postfix": ") ",
     "delete_cmd_prefix": "rm(",
     "library": "var_list.r",
     "varRefreshCmd": "cat(var_dic_list()) "
    }
   },
   "types_to_exclude": [
    "module",
    "function",
    "builtin_function_or_method",
    "instance",
    "_Feature"
   ],
   "window_display": false
  }
 },
 "nbformat": 4,
 "nbformat_minor": 4
}
